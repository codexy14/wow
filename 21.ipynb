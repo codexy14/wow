{
  "nbformat": 4,
  "nbformat_minor": 0,
  "metadata": {
    "colab": {
      "provenance": []
    },
    "kernelspec": {
      "name": "python3",
      "display_name": "Python 3"
    },
    "language_info": {
      "name": "python"
    }
  },
  "cells": [
    {
      "cell_type": "code",
      "execution_count": null,
      "metadata": {
        "colab": {
          "base_uri": "https://localhost:8080/"
        },
        "id": "W7swcztuw0Su",
        "outputId": "2acb6790-0661-40f9-be61-6a9eae52abb0"
      },
      "outputs": [
        {
          "output_type": "stream",
          "name": "stdout",
          "text": [
            "Drive already mounted at /content/drive; to attempt to forcibly remount, call drive.mount(\"/content/drive\", force_remount=True).\n"
          ]
        }
      ],
      "source": [
        "from google.colab import drive\n",
        "drive.mount('/content/drive')"
      ]
    },
    {
      "cell_type": "code",
      "source": [
        "import pandas as pd\n",
        "from sklearn.model_selection import train_test_split\n",
        "from sklearn import preprocessing\n",
        "from sklearn.preprocessing import LabelEncoder\n",
        "from sklearn.preprocessing import Normalizer\n",
        "from imblearn.over_sampling import SMOTE\n",
        "import numpy as np\n",
        "from keras.models import Sequential\n",
        "from keras.layers import Convolution1D,MaxPooling1D\n",
        "from keras.layers import Dense, Dropout\n",
        "from keras.layers import LSTM\n",
        "import matplotlib.pyplot as plt"
      ],
      "metadata": {
        "id": "XiFugnnMyuDj"
      },
      "execution_count": null,
      "outputs": []
    },
    {
      "cell_type": "code",
      "source": [
        "df = pd.read_csv(\"/content/drive/MyDrive/AI_L3/malicious_website_dataset.csv\")"
      ],
      "metadata": {
        "id": "jnMWZHW-y5b3"
      },
      "execution_count": null,
      "outputs": []
    },
    {
      "cell_type": "code",
      "source": [
        "random_df=df.sample(frac=1)\n",
        "random_df.reset_index(drop=True,inplace=False)"
      ],
      "metadata": {
        "colab": {
          "base_uri": "https://localhost:8080/",
          "height": 679
        },
        "id": "fVJIiAuAz_OP",
        "outputId": "171c102c-199a-455d-c317-d2f5ecb2e2d4"
      },
      "execution_count": null,
      "outputs": [
        {
          "output_type": "execute_result",
          "data": {
            "text/plain": [
              "          URL  URL_LENGTH  NUMBER_SPECIAL_CHARACTERS     CHARSET  \\\n",
              "0      B0_298          47                          8  iso-8859-1   \n",
              "1      B0_330          30                          6       UTF-8   \n",
              "2       M4_26         100                         20       UTF-8   \n",
              "3      B0_724          45                         10       UTF-8   \n",
              "4      B0_277          44                          9       UTF-8   \n",
              "...       ...         ...                        ...         ...   \n",
              "1776   B0_674          59                         12       utf-8   \n",
              "1777  B0_2230          37                          8       UTF-8   \n",
              "1778   B0_382          82                         13    us-ascii   \n",
              "1779   B0_546          57                         13       UTF-8   \n",
              "1780   B0_141          72                         15       UTF-8   \n",
              "\n",
              "                                                 SERVER  CONTENT_LENGTH  \\\n",
              "0     Apache/2.2.31 (Unix) mod_ssl/2.2.31 OpenSSL/0....           479.0   \n",
              "1                                                 nginx          8751.0   \n",
              "2                                                Apache             NaN   \n",
              "3                                    mw2233.codfw.wmnet             NaN   \n",
              "4                                    mw2190.codfw.wmnet             NaN   \n",
              "...                                                 ...             ...   \n",
              "1776                                              nginx           162.0   \n",
              "1777                                             Apache          1840.0   \n",
              "1778                              Microsoft-HTTPAPI/2.0           324.0   \n",
              "1779                                   cloudflare-nginx             NaN   \n",
              "1780                             Apache/2.4.16 (Ubuntu)             NaN   \n",
              "\n",
              "     WHOIS_COUNTRY  WHOIS_STATEPRO    WHOIS_REGDATE WHOIS_UPDATED_DATE  ...  \\\n",
              "0               CA              ON  18/10/2002 0:00    17/10/2016 0:00  ...   \n",
              "1               US              FL  30/04/2016 0:00    04/10/2016 0:00  ...   \n",
              "2               ES       Barcelona  17/09/2008 0:00    02/09/2016 0:00  ...   \n",
              "3               US              CA  13/01/2001 0:12   12/12/2015 10:16  ...   \n",
              "4               US              CA  13/01/2001 0:12   12/12/2015 10:16  ...   \n",
              "...            ...             ...              ...                ...  ...   \n",
              "1776            BS  New Providence  06/11/2007 0:00    01/10/2016 0:00  ...   \n",
              "1777            US              CA  11/09/1997 4:00   09/12/2015 14:43  ...   \n",
              "1778            US         Florida  02/10/2007 0:00    20/07/2014 0:00  ...   \n",
              "1779            US              NY  13/11/2003 0:00    12/01/2017 0:00  ...   \n",
              "1780            US              CA  22/09/2002 0:00    22/09/2016 0:00  ...   \n",
              "\n",
              "      DIST_REMOTE_TCP_PORT  REMOTE_IPS  APP_BYTES  SOURCE_APP_PACKETS  \\\n",
              "0                        7           8       3007                  35   \n",
              "1                        2           6       1528                  19   \n",
              "2                        0           0          0                   0   \n",
              "3                       29           2       5852                  42   \n",
              "4                       32           2       5805                  45   \n",
              "...                    ...         ...        ...                 ...   \n",
              "1776                    12           5       3142                  30   \n",
              "1777                     5           5        648                   8   \n",
              "1778                    26           6       3286                  37   \n",
              "1779                     7          12       3944                  48   \n",
              "1780                    13           6       6078                  53   \n",
              "\n",
              "      REMOTE_APP_PACKETS  SOURCE_APP_BYTES  REMOTE_APP_BYTES  APP_PACKETS  \\\n",
              "0                     29             23628              3335           35   \n",
              "1                     17              5586              1860           19   \n",
              "2                      2               124                 0            0   \n",
              "3                     39             37285              6460           42   \n",
              "4                     41             40585              6413           45   \n",
              "...                  ...               ...               ...          ...   \n",
              "1776                  24              7684              3746           30   \n",
              "1777                  11               739               648            8   \n",
              "1778                  45             28351              3776           37   \n",
              "1779                  40             23329              4404           48   \n",
              "1780                  52             40968              6520           53   \n",
              "\n",
              "      DNS_QUERY_TIMES  Type  \n",
              "0                 4.0     0  \n",
              "1                 4.0     0  \n",
              "2                 0.0     1  \n",
              "3                 8.0     0  \n",
              "4                 8.0     0  \n",
              "...               ...   ...  \n",
              "1776              8.0     0  \n",
              "1777              0.0     0  \n",
              "1778              6.0     0  \n",
              "1779              6.0     0  \n",
              "1780              6.0     0  \n",
              "\n",
              "[1781 rows x 21 columns]"
            ],
            "text/html": [
              "\n",
              "  <div id=\"df-a2790948-2e50-4efd-9e70-5970326de4aa\">\n",
              "    <div class=\"colab-df-container\">\n",
              "      <div>\n",
              "<style scoped>\n",
              "    .dataframe tbody tr th:only-of-type {\n",
              "        vertical-align: middle;\n",
              "    }\n",
              "\n",
              "    .dataframe tbody tr th {\n",
              "        vertical-align: top;\n",
              "    }\n",
              "\n",
              "    .dataframe thead th {\n",
              "        text-align: right;\n",
              "    }\n",
              "</style>\n",
              "<table border=\"1\" class=\"dataframe\">\n",
              "  <thead>\n",
              "    <tr style=\"text-align: right;\">\n",
              "      <th></th>\n",
              "      <th>URL</th>\n",
              "      <th>URL_LENGTH</th>\n",
              "      <th>NUMBER_SPECIAL_CHARACTERS</th>\n",
              "      <th>CHARSET</th>\n",
              "      <th>SERVER</th>\n",
              "      <th>CONTENT_LENGTH</th>\n",
              "      <th>WHOIS_COUNTRY</th>\n",
              "      <th>WHOIS_STATEPRO</th>\n",
              "      <th>WHOIS_REGDATE</th>\n",
              "      <th>WHOIS_UPDATED_DATE</th>\n",
              "      <th>...</th>\n",
              "      <th>DIST_REMOTE_TCP_PORT</th>\n",
              "      <th>REMOTE_IPS</th>\n",
              "      <th>APP_BYTES</th>\n",
              "      <th>SOURCE_APP_PACKETS</th>\n",
              "      <th>REMOTE_APP_PACKETS</th>\n",
              "      <th>SOURCE_APP_BYTES</th>\n",
              "      <th>REMOTE_APP_BYTES</th>\n",
              "      <th>APP_PACKETS</th>\n",
              "      <th>DNS_QUERY_TIMES</th>\n",
              "      <th>Type</th>\n",
              "    </tr>\n",
              "  </thead>\n",
              "  <tbody>\n",
              "    <tr>\n",
              "      <th>0</th>\n",
              "      <td>B0_298</td>\n",
              "      <td>47</td>\n",
              "      <td>8</td>\n",
              "      <td>iso-8859-1</td>\n",
              "      <td>Apache/2.2.31 (Unix) mod_ssl/2.2.31 OpenSSL/0....</td>\n",
              "      <td>479.0</td>\n",
              "      <td>CA</td>\n",
              "      <td>ON</td>\n",
              "      <td>18/10/2002 0:00</td>\n",
              "      <td>17/10/2016 0:00</td>\n",
              "      <td>...</td>\n",
              "      <td>7</td>\n",
              "      <td>8</td>\n",
              "      <td>3007</td>\n",
              "      <td>35</td>\n",
              "      <td>29</td>\n",
              "      <td>23628</td>\n",
              "      <td>3335</td>\n",
              "      <td>35</td>\n",
              "      <td>4.0</td>\n",
              "      <td>0</td>\n",
              "    </tr>\n",
              "    <tr>\n",
              "      <th>1</th>\n",
              "      <td>B0_330</td>\n",
              "      <td>30</td>\n",
              "      <td>6</td>\n",
              "      <td>UTF-8</td>\n",
              "      <td>nginx</td>\n",
              "      <td>8751.0</td>\n",
              "      <td>US</td>\n",
              "      <td>FL</td>\n",
              "      <td>30/04/2016 0:00</td>\n",
              "      <td>04/10/2016 0:00</td>\n",
              "      <td>...</td>\n",
              "      <td>2</td>\n",
              "      <td>6</td>\n",
              "      <td>1528</td>\n",
              "      <td>19</td>\n",
              "      <td>17</td>\n",
              "      <td>5586</td>\n",
              "      <td>1860</td>\n",
              "      <td>19</td>\n",
              "      <td>4.0</td>\n",
              "      <td>0</td>\n",
              "    </tr>\n",
              "    <tr>\n",
              "      <th>2</th>\n",
              "      <td>M4_26</td>\n",
              "      <td>100</td>\n",
              "      <td>20</td>\n",
              "      <td>UTF-8</td>\n",
              "      <td>Apache</td>\n",
              "      <td>NaN</td>\n",
              "      <td>ES</td>\n",
              "      <td>Barcelona</td>\n",
              "      <td>17/09/2008 0:00</td>\n",
              "      <td>02/09/2016 0:00</td>\n",
              "      <td>...</td>\n",
              "      <td>0</td>\n",
              "      <td>0</td>\n",
              "      <td>0</td>\n",
              "      <td>0</td>\n",
              "      <td>2</td>\n",
              "      <td>124</td>\n",
              "      <td>0</td>\n",
              "      <td>0</td>\n",
              "      <td>0.0</td>\n",
              "      <td>1</td>\n",
              "    </tr>\n",
              "    <tr>\n",
              "      <th>3</th>\n",
              "      <td>B0_724</td>\n",
              "      <td>45</td>\n",
              "      <td>10</td>\n",
              "      <td>UTF-8</td>\n",
              "      <td>mw2233.codfw.wmnet</td>\n",
              "      <td>NaN</td>\n",
              "      <td>US</td>\n",
              "      <td>CA</td>\n",
              "      <td>13/01/2001 0:12</td>\n",
              "      <td>12/12/2015 10:16</td>\n",
              "      <td>...</td>\n",
              "      <td>29</td>\n",
              "      <td>2</td>\n",
              "      <td>5852</td>\n",
              "      <td>42</td>\n",
              "      <td>39</td>\n",
              "      <td>37285</td>\n",
              "      <td>6460</td>\n",
              "      <td>42</td>\n",
              "      <td>8.0</td>\n",
              "      <td>0</td>\n",
              "    </tr>\n",
              "    <tr>\n",
              "      <th>4</th>\n",
              "      <td>B0_277</td>\n",
              "      <td>44</td>\n",
              "      <td>9</td>\n",
              "      <td>UTF-8</td>\n",
              "      <td>mw2190.codfw.wmnet</td>\n",
              "      <td>NaN</td>\n",
              "      <td>US</td>\n",
              "      <td>CA</td>\n",
              "      <td>13/01/2001 0:12</td>\n",
              "      <td>12/12/2015 10:16</td>\n",
              "      <td>...</td>\n",
              "      <td>32</td>\n",
              "      <td>2</td>\n",
              "      <td>5805</td>\n",
              "      <td>45</td>\n",
              "      <td>41</td>\n",
              "      <td>40585</td>\n",
              "      <td>6413</td>\n",
              "      <td>45</td>\n",
              "      <td>8.0</td>\n",
              "      <td>0</td>\n",
              "    </tr>\n",
              "    <tr>\n",
              "      <th>...</th>\n",
              "      <td>...</td>\n",
              "      <td>...</td>\n",
              "      <td>...</td>\n",
              "      <td>...</td>\n",
              "      <td>...</td>\n",
              "      <td>...</td>\n",
              "      <td>...</td>\n",
              "      <td>...</td>\n",
              "      <td>...</td>\n",
              "      <td>...</td>\n",
              "      <td>...</td>\n",
              "      <td>...</td>\n",
              "      <td>...</td>\n",
              "      <td>...</td>\n",
              "      <td>...</td>\n",
              "      <td>...</td>\n",
              "      <td>...</td>\n",
              "      <td>...</td>\n",
              "      <td>...</td>\n",
              "      <td>...</td>\n",
              "      <td>...</td>\n",
              "    </tr>\n",
              "    <tr>\n",
              "      <th>1776</th>\n",
              "      <td>B0_674</td>\n",
              "      <td>59</td>\n",
              "      <td>12</td>\n",
              "      <td>utf-8</td>\n",
              "      <td>nginx</td>\n",
              "      <td>162.0</td>\n",
              "      <td>BS</td>\n",
              "      <td>New Providence</td>\n",
              "      <td>06/11/2007 0:00</td>\n",
              "      <td>01/10/2016 0:00</td>\n",
              "      <td>...</td>\n",
              "      <td>12</td>\n",
              "      <td>5</td>\n",
              "      <td>3142</td>\n",
              "      <td>30</td>\n",
              "      <td>24</td>\n",
              "      <td>7684</td>\n",
              "      <td>3746</td>\n",
              "      <td>30</td>\n",
              "      <td>8.0</td>\n",
              "      <td>0</td>\n",
              "    </tr>\n",
              "    <tr>\n",
              "      <th>1777</th>\n",
              "      <td>B0_2230</td>\n",
              "      <td>37</td>\n",
              "      <td>8</td>\n",
              "      <td>UTF-8</td>\n",
              "      <td>Apache</td>\n",
              "      <td>1840.0</td>\n",
              "      <td>US</td>\n",
              "      <td>CA</td>\n",
              "      <td>11/09/1997 4:00</td>\n",
              "      <td>09/12/2015 14:43</td>\n",
              "      <td>...</td>\n",
              "      <td>5</td>\n",
              "      <td>5</td>\n",
              "      <td>648</td>\n",
              "      <td>8</td>\n",
              "      <td>11</td>\n",
              "      <td>739</td>\n",
              "      <td>648</td>\n",
              "      <td>8</td>\n",
              "      <td>0.0</td>\n",
              "      <td>0</td>\n",
              "    </tr>\n",
              "    <tr>\n",
              "      <th>1778</th>\n",
              "      <td>B0_382</td>\n",
              "      <td>82</td>\n",
              "      <td>13</td>\n",
              "      <td>us-ascii</td>\n",
              "      <td>Microsoft-HTTPAPI/2.0</td>\n",
              "      <td>324.0</td>\n",
              "      <td>US</td>\n",
              "      <td>Florida</td>\n",
              "      <td>02/10/2007 0:00</td>\n",
              "      <td>20/07/2014 0:00</td>\n",
              "      <td>...</td>\n",
              "      <td>26</td>\n",
              "      <td>6</td>\n",
              "      <td>3286</td>\n",
              "      <td>37</td>\n",
              "      <td>45</td>\n",
              "      <td>28351</td>\n",
              "      <td>3776</td>\n",
              "      <td>37</td>\n",
              "      <td>6.0</td>\n",
              "      <td>0</td>\n",
              "    </tr>\n",
              "    <tr>\n",
              "      <th>1779</th>\n",
              "      <td>B0_546</td>\n",
              "      <td>57</td>\n",
              "      <td>13</td>\n",
              "      <td>UTF-8</td>\n",
              "      <td>cloudflare-nginx</td>\n",
              "      <td>NaN</td>\n",
              "      <td>US</td>\n",
              "      <td>NY</td>\n",
              "      <td>13/11/2003 0:00</td>\n",
              "      <td>12/01/2017 0:00</td>\n",
              "      <td>...</td>\n",
              "      <td>7</td>\n",
              "      <td>12</td>\n",
              "      <td>3944</td>\n",
              "      <td>48</td>\n",
              "      <td>40</td>\n",
              "      <td>23329</td>\n",
              "      <td>4404</td>\n",
              "      <td>48</td>\n",
              "      <td>6.0</td>\n",
              "      <td>0</td>\n",
              "    </tr>\n",
              "    <tr>\n",
              "      <th>1780</th>\n",
              "      <td>B0_141</td>\n",
              "      <td>72</td>\n",
              "      <td>15</td>\n",
              "      <td>UTF-8</td>\n",
              "      <td>Apache/2.4.16 (Ubuntu)</td>\n",
              "      <td>NaN</td>\n",
              "      <td>US</td>\n",
              "      <td>CA</td>\n",
              "      <td>22/09/2002 0:00</td>\n",
              "      <td>22/09/2016 0:00</td>\n",
              "      <td>...</td>\n",
              "      <td>13</td>\n",
              "      <td>6</td>\n",
              "      <td>6078</td>\n",
              "      <td>53</td>\n",
              "      <td>52</td>\n",
              "      <td>40968</td>\n",
              "      <td>6520</td>\n",
              "      <td>53</td>\n",
              "      <td>6.0</td>\n",
              "      <td>0</td>\n",
              "    </tr>\n",
              "  </tbody>\n",
              "</table>\n",
              "<p>1781 rows × 21 columns</p>\n",
              "</div>\n",
              "      <button class=\"colab-df-convert\" onclick=\"convertToInteractive('df-a2790948-2e50-4efd-9e70-5970326de4aa')\"\n",
              "              title=\"Convert this dataframe to an interactive table.\"\n",
              "              style=\"display:none;\">\n",
              "        \n",
              "  <svg xmlns=\"http://www.w3.org/2000/svg\" height=\"24px\"viewBox=\"0 0 24 24\"\n",
              "       width=\"24px\">\n",
              "    <path d=\"M0 0h24v24H0V0z\" fill=\"none\"/>\n",
              "    <path d=\"M18.56 5.44l.94 2.06.94-2.06 2.06-.94-2.06-.94-.94-2.06-.94 2.06-2.06.94zm-11 1L8.5 8.5l.94-2.06 2.06-.94-2.06-.94L8.5 2.5l-.94 2.06-2.06.94zm10 10l.94 2.06.94-2.06 2.06-.94-2.06-.94-.94-2.06-.94 2.06-2.06.94z\"/><path d=\"M17.41 7.96l-1.37-1.37c-.4-.4-.92-.59-1.43-.59-.52 0-1.04.2-1.43.59L10.3 9.45l-7.72 7.72c-.78.78-.78 2.05 0 2.83L4 21.41c.39.39.9.59 1.41.59.51 0 1.02-.2 1.41-.59l7.78-7.78 2.81-2.81c.8-.78.8-2.07 0-2.86zM5.41 20L4 18.59l7.72-7.72 1.47 1.35L5.41 20z\"/>\n",
              "  </svg>\n",
              "      </button>\n",
              "      \n",
              "  <style>\n",
              "    .colab-df-container {\n",
              "      display:flex;\n",
              "      flex-wrap:wrap;\n",
              "      gap: 12px;\n",
              "    }\n",
              "\n",
              "    .colab-df-convert {\n",
              "      background-color: #E8F0FE;\n",
              "      border: none;\n",
              "      border-radius: 50%;\n",
              "      cursor: pointer;\n",
              "      display: none;\n",
              "      fill: #1967D2;\n",
              "      height: 32px;\n",
              "      padding: 0 0 0 0;\n",
              "      width: 32px;\n",
              "    }\n",
              "\n",
              "    .colab-df-convert:hover {\n",
              "      background-color: #E2EBFA;\n",
              "      box-shadow: 0px 1px 2px rgba(60, 64, 67, 0.3), 0px 1px 3px 1px rgba(60, 64, 67, 0.15);\n",
              "      fill: #174EA6;\n",
              "    }\n",
              "\n",
              "    [theme=dark] .colab-df-convert {\n",
              "      background-color: #3B4455;\n",
              "      fill: #D2E3FC;\n",
              "    }\n",
              "\n",
              "    [theme=dark] .colab-df-convert:hover {\n",
              "      background-color: #434B5C;\n",
              "      box-shadow: 0px 1px 3px 1px rgba(0, 0, 0, 0.15);\n",
              "      filter: drop-shadow(0px 1px 2px rgba(0, 0, 0, 0.3));\n",
              "      fill: #FFFFFF;\n",
              "    }\n",
              "  </style>\n",
              "\n",
              "      <script>\n",
              "        const buttonEl =\n",
              "          document.querySelector('#df-a2790948-2e50-4efd-9e70-5970326de4aa button.colab-df-convert');\n",
              "        buttonEl.style.display =\n",
              "          google.colab.kernel.accessAllowed ? 'block' : 'none';\n",
              "\n",
              "        async function convertToInteractive(key) {\n",
              "          const element = document.querySelector('#df-a2790948-2e50-4efd-9e70-5970326de4aa');\n",
              "          const dataTable =\n",
              "            await google.colab.kernel.invokeFunction('convertToInteractive',\n",
              "                                                     [key], {});\n",
              "          if (!dataTable) return;\n",
              "\n",
              "          const docLinkHtml = 'Like what you see? Visit the ' +\n",
              "            '<a target=\"_blank\" href=https://colab.research.google.com/notebooks/data_table.ipynb>data table notebook</a>'\n",
              "            + ' to learn more about interactive tables.';\n",
              "          element.innerHTML = '';\n",
              "          dataTable['output_type'] = 'display_data';\n",
              "          await google.colab.output.renderOutput(dataTable, element);\n",
              "          const docLink = document.createElement('div');\n",
              "          docLink.innerHTML = docLinkHtml;\n",
              "          element.appendChild(docLink);\n",
              "        }\n",
              "      </script>\n",
              "    </div>\n",
              "  </div>\n",
              "  "
            ]
          },
          "metadata": {},
          "execution_count": 853
        }
      ]
    },
    {
      "cell_type": "code",
      "source": [
        "random_df.isna().sum()"
      ],
      "metadata": {
        "colab": {
          "base_uri": "https://localhost:8080/"
        },
        "id": "TtlfvyXp0E76",
        "outputId": "89cfcb3f-97cb-47c2-b331-25c0fa637e48"
      },
      "execution_count": null,
      "outputs": [
        {
          "output_type": "execute_result",
          "data": {
            "text/plain": [
              "URL                            0\n",
              "URL_LENGTH                     0\n",
              "NUMBER_SPECIAL_CHARACTERS      0\n",
              "CHARSET                        7\n",
              "SERVER                       176\n",
              "CONTENT_LENGTH               812\n",
              "WHOIS_COUNTRY                306\n",
              "WHOIS_STATEPRO               363\n",
              "WHOIS_REGDATE                127\n",
              "WHOIS_UPDATED_DATE           139\n",
              "TCP_CONVERSATION_EXCHANGE      0\n",
              "DIST_REMOTE_TCP_PORT           0\n",
              "REMOTE_IPS                     0\n",
              "APP_BYTES                      0\n",
              "SOURCE_APP_PACKETS             0\n",
              "REMOTE_APP_PACKETS             0\n",
              "SOURCE_APP_BYTES               0\n",
              "REMOTE_APP_BYTES               0\n",
              "APP_PACKETS                    0\n",
              "DNS_QUERY_TIMES                1\n",
              "Type                           0\n",
              "dtype: int64"
            ]
          },
          "metadata": {},
          "execution_count": 854
        }
      ]
    },
    {
      "cell_type": "code",
      "source": [
        "random_df = random_df.fillna(random_df.mean())"
      ],
      "metadata": {
        "colab": {
          "base_uri": "https://localhost:8080/"
        },
        "id": "P2D3PojA0Jdk",
        "outputId": "4a451c5d-fef6-43f0-d711-534e0d981b5c"
      },
      "execution_count": null,
      "outputs": [
        {
          "output_type": "stream",
          "name": "stderr",
          "text": [
            "<ipython-input-855-37bad7d3aadc>:1: FutureWarning: Dropping of nuisance columns in DataFrame reductions (with 'numeric_only=None') is deprecated; in a future version this will raise TypeError.  Select only valid columns before calling the reduction.\n",
            "  random_df = random_df.fillna(random_df.mean())\n"
          ]
        }
      ]
    },
    {
      "cell_type": "code",
      "source": [
        "random_df.drop(columns=['WHOIS_COUNTRY','WHOIS_STATEPRO','WHOIS_REGDATE','WHOIS_UPDATED_DATE'],inplace=True)"
      ],
      "metadata": {
        "id": "rtVWXa-O0MrU"
      },
      "execution_count": null,
      "outputs": []
    },
    {
      "cell_type": "code",
      "source": [
        "categ = ['URL','CHARSET','SERVER']\n",
        "# Encode Categorical Columns\n",
        "le = LabelEncoder()\n",
        "random_df[categ] = random_df[categ].apply(le.fit_transform)"
      ],
      "metadata": {
        "id": "AtSZSAEf0aBD"
      },
      "execution_count": null,
      "outputs": []
    },
    {
      "cell_type": "code",
      "source": [
        "random_df.isna().sum()"
      ],
      "metadata": {
        "colab": {
          "base_uri": "https://localhost:8080/"
        },
        "id": "AjAVXlf15gFm",
        "outputId": "8294859d-3040-48d6-aa6a-06f887bfad1f"
      },
      "execution_count": null,
      "outputs": [
        {
          "output_type": "execute_result",
          "data": {
            "text/plain": [
              "URL                          0\n",
              "URL_LENGTH                   0\n",
              "NUMBER_SPECIAL_CHARACTERS    0\n",
              "CHARSET                      0\n",
              "SERVER                       0\n",
              "CONTENT_LENGTH               0\n",
              "TCP_CONVERSATION_EXCHANGE    0\n",
              "DIST_REMOTE_TCP_PORT         0\n",
              "REMOTE_IPS                   0\n",
              "APP_BYTES                    0\n",
              "SOURCE_APP_PACKETS           0\n",
              "REMOTE_APP_PACKETS           0\n",
              "SOURCE_APP_BYTES             0\n",
              "REMOTE_APP_BYTES             0\n",
              "APP_PACKETS                  0\n",
              "DNS_QUERY_TIMES              0\n",
              "Type                         0\n",
              "dtype: int64"
            ]
          },
          "metadata": {},
          "execution_count": 859
        }
      ]
    },
    {
      "cell_type": "code",
      "source": [
        "X= random_df.iloc[:,:-1]\n",
        "Y=random_df['Type']"
      ],
      "metadata": {
        "id": "k6F3gLzK0pKg"
      },
      "execution_count": null,
      "outputs": []
    },
    {
      "cell_type": "code",
      "source": [
        "scaler = Normalizer().fit(X)\n",
        "X= scaler.transform(X)"
      ],
      "metadata": {
        "id": "OvQfQfh20tGF"
      },
      "execution_count": null,
      "outputs": []
    },
    {
      "cell_type": "code",
      "source": [
        "sm = SMOTE(random_state=16,k_neighbors=1)\n",
        "X_res, y_res = sm.fit_resample(X, Y)\n",
        "y_res.value_counts()"
      ],
      "metadata": {
        "execution": {
          "iopub.status.busy": "2022-09-14T05:46:39.430870Z",
          "iopub.execute_input": "2022-09-14T05:46:39.431298Z",
          "iopub.status.idle": "2022-09-14T05:47:16.346405Z",
          "shell.execute_reply.started": "2022-09-14T05:46:39.431256Z",
          "shell.execute_reply": "2022-09-14T05:47:16.344325Z"
        },
        "trusted": true,
        "id": "HhnDfZo_WNGF",
        "outputId": "65659a45-daa4-46c1-eb0c-8614e1eca56d",
        "colab": {
          "base_uri": "https://localhost:8080/"
        }
      },
      "execution_count": null,
      "outputs": [
        {
          "output_type": "execute_result",
          "data": {
            "text/plain": [
              "0    1565\n",
              "1    1565\n",
              "Name: Type, dtype: int64"
            ]
          },
          "metadata": {},
          "execution_count": 862
        }
      ]
    },
    {
      "cell_type": "code",
      "source": [
        "X_train , X_test , Y_train , Y_test = train_test_split(X_res,y_res, test_size=0.2 , stratify=y_res)\n",
        "Y_train.value_counts()"
      ],
      "metadata": {
        "colab": {
          "base_uri": "https://localhost:8080/"
        },
        "id": "6L1erXY_1HXr",
        "outputId": "96bb2eba-7f3f-434e-e8d3-073cc6d81377"
      },
      "execution_count": null,
      "outputs": [
        {
          "output_type": "execute_result",
          "data": {
            "text/plain": [
              "0    1096\n",
              "1    1095\n",
              "Name: Type, dtype: int64"
            ]
          },
          "metadata": {},
          "execution_count": 863
        }
      ]
    },
    {
      "cell_type": "code",
      "source": [
        "X_train = np.reshape(X_train, (X_train.shape[0],X_train.shape[1],1))\n",
        "X_test = np.reshape(X_test, (X_test.shape[0],X_test.shape[1],1))\n"
      ],
      "metadata": {
        "execution": {
          "iopub.status.busy": "2022-09-14T05:47:17.816248Z",
          "iopub.execute_input": "2022-09-14T05:47:17.817096Z",
          "iopub.status.idle": "2022-09-14T05:47:17.824190Z",
          "shell.execute_reply.started": "2022-09-14T05:47:17.817055Z",
          "shell.execute_reply": "2022-09-14T05:47:17.822983Z"
        },
        "trusted": true,
        "id": "BNolu0ZDWNGH"
      },
      "execution_count": null,
      "outputs": []
    },
    {
      "cell_type": "markdown",
      "source": [
        "# CNN Model Implementation"
      ],
      "metadata": {
        "id": "KlBlO7D1IoCV"
      }
    },
    {
      "cell_type": "code",
      "source": [
        "cnn = Sequential()\n",
        "\n",
        "cnn.add(Convolution1D(128,\n",
        "                 3,\n",
        "                 padding='valid',\n",
        "                 activation='relu',\n",
        "                 strides=1,\n",
        "                 input_shape=(16, 1)))\n",
        "cnn.add(MaxPooling1D(pool_size=2))\n",
        "cnn.add(Dropout(0.5))\n",
        "\n",
        "cnn.add(LSTM(70))\n",
        "cnn.add(Dense(2, activation=\"softmax\"))"
      ],
      "metadata": {
        "id": "4hHMD4KY1Xo7"
      },
      "execution_count": null,
      "outputs": []
    },
    {
      "cell_type": "code",
      "source": [
        "cnn.compile(loss=\"sparse_categorical_crossentropy\", optimizer=\"adam\",metrics=['accuracy'])"
      ],
      "metadata": {
        "id": "xINwCO-L15t1"
      },
      "execution_count": null,
      "outputs": []
    },
    {
      "cell_type": "code",
      "source": [
        "history=cnn.fit(X_train, Y_train, epochs=20,verbose=1,batch_size=500,validation_data=(X_test, Y_test))"
      ],
      "metadata": {
        "colab": {
          "base_uri": "https://localhost:8080/"
        },
        "id": "MW4PWJQi1_ms",
        "outputId": "ed0bfd96-3569-431f-ff7f-8d307e44b8cd"
      },
      "execution_count": null,
      "outputs": [
        {
          "output_type": "stream",
          "name": "stdout",
          "text": [
            "Epoch 1/20\n",
            "5/5 [==============================] - 5s 265ms/step - loss: 0.6912 - accuracy: 0.5445 - val_loss: 0.6907 - val_accuracy: 0.5240\n",
            "Epoch 2/20\n",
            "5/5 [==============================] - 0s 95ms/step - loss: 0.6892 - accuracy: 0.5468 - val_loss: 0.6893 - val_accuracy: 0.5453\n",
            "Epoch 3/20\n",
            "5/5 [==============================] - 0s 58ms/step - loss: 0.6872 - accuracy: 0.5646 - val_loss: 0.6877 - val_accuracy: 0.5570\n",
            "Epoch 4/20\n",
            "5/5 [==============================] - 0s 87ms/step - loss: 0.6854 - accuracy: 0.5710 - val_loss: 0.6861 - val_accuracy: 0.5591\n",
            "Epoch 5/20\n",
            "5/5 [==============================] - 0s 53ms/step - loss: 0.6825 - accuracy: 0.5760 - val_loss: 0.6844 - val_accuracy: 0.5591\n",
            "Epoch 6/20\n",
            "5/5 [==============================] - 0s 74ms/step - loss: 0.6807 - accuracy: 0.5696 - val_loss: 0.6831 - val_accuracy: 0.5517\n",
            "Epoch 7/20\n",
            "5/5 [==============================] - 0s 75ms/step - loss: 0.6789 - accuracy: 0.5723 - val_loss: 0.6805 - val_accuracy: 0.5644\n",
            "Epoch 8/20\n",
            "5/5 [==============================] - 0s 62ms/step - loss: 0.6761 - accuracy: 0.5801 - val_loss: 0.6773 - val_accuracy: 0.5666\n",
            "Epoch 9/20\n",
            "5/5 [==============================] - 0s 62ms/step - loss: 0.6742 - accuracy: 0.5819 - val_loss: 0.6735 - val_accuracy: 0.5698\n",
            "Epoch 10/20\n",
            "5/5 [==============================] - 0s 81ms/step - loss: 0.6726 - accuracy: 0.5911 - val_loss: 0.6685 - val_accuracy: 0.5719\n",
            "Epoch 11/20\n",
            "5/5 [==============================] - 0s 58ms/step - loss: 0.6682 - accuracy: 0.5733 - val_loss: 0.6634 - val_accuracy: 0.5687\n",
            "Epoch 12/20\n",
            "5/5 [==============================] - 0s 66ms/step - loss: 0.6653 - accuracy: 0.6020 - val_loss: 0.6583 - val_accuracy: 0.5761\n",
            "Epoch 13/20\n",
            "5/5 [==============================] - 0s 75ms/step - loss: 0.6654 - accuracy: 0.5860 - val_loss: 0.6540 - val_accuracy: 0.5804\n",
            "Epoch 14/20\n",
            "5/5 [==============================] - 0s 66ms/step - loss: 0.6630 - accuracy: 0.6020 - val_loss: 0.6511 - val_accuracy: 0.5655\n",
            "Epoch 15/20\n",
            "5/5 [==============================] - 0s 72ms/step - loss: 0.6638 - accuracy: 0.5774 - val_loss: 0.6496 - val_accuracy: 0.5825\n",
            "Epoch 16/20\n",
            "5/5 [==============================] - 0s 100ms/step - loss: 0.6588 - accuracy: 0.6139 - val_loss: 0.6534 - val_accuracy: 0.6092\n",
            "Epoch 17/20\n",
            "5/5 [==============================] - 0s 70ms/step - loss: 0.6531 - accuracy: 0.6089 - val_loss: 0.6497 - val_accuracy: 0.5612\n",
            "Epoch 18/20\n",
            "5/5 [==============================] - 0s 76ms/step - loss: 0.6560 - accuracy: 0.5974 - val_loss: 0.6431 - val_accuracy: 0.5847\n",
            "Epoch 19/20\n",
            "5/5 [==============================] - 0s 70ms/step - loss: 0.6509 - accuracy: 0.6143 - val_loss: 0.6380 - val_accuracy: 0.6028\n",
            "Epoch 20/20\n",
            "5/5 [==============================] - 0s 73ms/step - loss: 0.6479 - accuracy: 0.6162 - val_loss: 0.6340 - val_accuracy: 0.5836\n"
          ]
        }
      ]
    },
    {
      "cell_type": "code",
      "source": [
        "plt.plot(history.history['accuracy'])\n",
        "plt.plot(history.history['val_accuracy'])\n",
        "plt.title('model accuracy')\n",
        "plt.ylabel('accuracy')\n",
        "plt.xlabel('epoch')\n",
        "plt.legend(['train', 'test'], loc='upper left')\n",
        "plt.show()"
      ],
      "metadata": {
        "colab": {
          "base_uri": "https://localhost:8080/",
          "height": 295
        },
        "id": "xS29z2GY3I6H",
        "outputId": "aa42ba35-5aa3-47e8-dc5d-5b5eacba40b2"
      },
      "execution_count": null,
      "outputs": [
        {
          "output_type": "display_data",
          "data": {
            "text/plain": [
              "<Figure size 432x288 with 1 Axes>"
            ],
            "image/png": "[encoded data removed]"
          },
          "metadata": {
            "needs_background": "light"
          }
        }
      ]
    },
    {
      "cell_type": "code",
      "source": [
        "plt.plot(history.history['loss'])\n",
        "plt.plot(history.history['val_loss'])\n",
        "plt.title('model loss')\n",
        "plt.ylabel('loss')\n",
        "plt.xlabel('epoch')\n",
        "plt.legend(['train', 'test'], loc='upper left')\n",
        "plt.show()"
      ],
      "metadata": {
        "colab": {
          "base_uri": "https://localhost:8080/",
          "height": 295
        },
        "id": "AiLGZm973cvx",
        "outputId": "ed44353b-e7df-408b-94fb-f548fdcb5b4a"
      },
      "execution_count": null,
      "outputs": [
        {
          "output_type": "display_data",
          "data": {
            "text/plain": [
              "<Figure size 432x288 with 1 Axes>"
            ],
            "image/png": "[encoded data removed]"
          },
          "metadata": {
            "needs_background": "light"
          }
        }
      ]
    },
    {
      "cell_type": "code",
      "source": [
        "loss, accuracy = cnn.evaluate(X_test, Y_test)\n",
        "print(\"\\nLoss: %.2f, Accuracy: %.2f%%\" % (loss, accuracy*100))"
      ],
      "metadata": {
        "colab": {
          "base_uri": "https://localhost:8080/"
        },
        "id": "072ncJUEFHp7",
        "outputId": "a4e63702-6937-4a32-c683-4b820007348b"
      },
      "execution_count": null,
      "outputs": [
        {
          "output_type": "stream",
          "name": "stdout",
          "text": [
            "30/30 [==============================] - 0s 4ms/step - loss: 0.6340 - accuracy: 0.5836\n",
            "\n",
            "Loss: 0.63, Accuracy: 58.36%\n"
          ]
        }
      ]
    }
  ]
}