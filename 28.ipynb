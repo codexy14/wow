{
  "metadata": {
    "kernelspec": {
      "language": "python",
      "display_name": "Python 3",
      "name": "python3"
    },
    "language_info": {
      "name": "python",
      "version": "3.7.12",
      "mimetype": "text/x-python",
      "codemirror_mode": {
        "name": "ipython",
        "version": 3
      },
      "pygments_lexer": "ipython3",
      "nbconvert_exporter": "python",
      "file_extension": ".py"
    },
    "colab": {
      "provenance": []
    }
  },
  "nbformat_minor": 0,
  "nbformat": 4,
  "cells": [
    {
      "cell_type": "markdown",
      "source": [
        "# CNN"
      ],
      "metadata": {
        "id": "qvyDWl44zh4Y"
      }
    },
    {
      "cell_type": "markdown",
      "source": [
        "# Libraries Include"
      ],
      "metadata": {
        "id": "UcaI81FqWNFv"
      }
    },
    {
      "cell_type": "code",
      "source": [
        "from __future__ import print_function\n",
        "import numpy as np\n",
        "np.random.seed(1337)  # for reproducibility\n",
        "from keras.preprocessing import sequence\n",
        "from keras.models import Sequential\n",
        "from keras.layers import Dense, Dropout, Activation, Lambda\n",
        "from keras.layers import Embedding\n",
        "from keras.layers import Convolution1D,MaxPooling1D, Flatten\n",
        "from keras.datasets import imdb\n",
        "from keras import backend as K\n",
        "from sklearn.model_selection import train_test_split\n",
        "import pandas as pd\n",
        "from keras.utils.np_utils import to_categorical\n",
        "from sklearn.preprocessing import Normalizer\n",
        "from keras.models import Sequential\n",
        "from keras.layers import Convolution1D, Dense, Dropout, Flatten, MaxPooling1D\n",
        "from keras.utils import np_utils\n",
        "import numpy as np\n",
        "import h5py\n",
        "from keras import callbacks\n",
        "from keras.layers import LSTM, GRU, SimpleRNN\n",
        "from keras.callbacks import CSVLogger\n",
        "from keras.callbacks import ModelCheckpoint, EarlyStopping, ReduceLROnPlateau, CSVLogger\n",
        "from sklearn.preprocessing import LabelEncoder\n",
        "import matplotlib.pyplot as plt\n",
        "from imblearn.over_sampling import ADASYN\n",
        "from imblearn.over_sampling import SMOTE\n",
        "from keras.regularizers import l2\n",
        "from tensorflow.keras.models import save_model\n",
        "from tensorflow.keras.models import load_model\n"
      ],
      "metadata": {
        "_cell_guid": "b1076dfc-b9ad-4769-8c92-a6c4dae69d19",
        "_uuid": "8f2839f25d086af736a60e9eeb907d3b93b6e0e5",
        "execution": {
          "iopub.status.busy": "2022-09-14T05:46:29.275487Z",
          "iopub.execute_input": "2022-09-14T05:46:29.276437Z",
          "iopub.status.idle": "2022-09-14T05:46:38.157036Z",
          "shell.execute_reply.started": "2022-09-14T05:46:29.276311Z",
          "shell.execute_reply": "2022-09-14T05:46:38.155852Z"
        },
        "trusted": true,
        "id": "6EusOg98WNF1"
      },
      "execution_count": null,
      "outputs": []
    },
    {
      "cell_type": "markdown",
      "source": [
        "# Load dataset"
      ],
      "metadata": {
        "id": "53Ja0suyWNF4"
      }
    },
    {
      "cell_type": "code",
      "source": [
        "traindata = pd.read_csv('../input/nslkdd/kdd_train.csv')\n",
        "testdata = pd.read_csv('../input/nslkdd/kdd_test.csv')"
      ],
      "metadata": {
        "execution": {
          "iopub.status.busy": "2022-09-14T05:46:38.159379Z",
          "iopub.execute_input": "2022-09-14T05:46:38.160041Z",
          "iopub.status.idle": "2022-09-14T05:46:38.892103Z",
          "shell.execute_reply.started": "2022-09-14T05:46:38.160005Z",
          "shell.execute_reply": "2022-09-14T05:46:38.890856Z"
        },
        "trusted": true,
        "id": "S_dGUxxaWNF5"
      },
      "execution_count": null,
      "outputs": []
    },
    {
      "cell_type": "code",
      "source": [
        "data = pd.concat([traindata,testdata])\n",
        "data.head()"
      ],
      "metadata": {
        "execution": {
          "iopub.status.busy": "2022-09-14T05:46:38.893680Z",
          "iopub.execute_input": "2022-09-14T05:46:38.894491Z",
          "iopub.status.idle": "2022-09-14T05:46:38.990669Z",
          "shell.execute_reply.started": "2022-09-14T05:46:38.894431Z",
          "shell.execute_reply": "2022-09-14T05:46:38.989251Z"
        },
        "trusted": true,
        "id": "nsOz5Wr4WNF6",
        "outputId": "60eb096a-2e29-484d-9153-23cb38679c86"
      },
      "execution_count": null,
      "outputs": [
        {
          "execution_count": 3,
          "output_type": "execute_result",
          "data": {
            "text/plain": "   duration protocol_type   service flag  src_bytes  dst_bytes  land  \\\n0         0           tcp  ftp_data   SF        491          0     0   \n1         0           udp     other   SF        146          0     0   \n2         0           tcp   private   S0          0          0     0   \n3         0           tcp      http   SF        232       8153     0   \n4         0           tcp      http   SF        199        420     0   \n\n   wrong_fragment  urgent  hot  ...  dst_host_srv_count  \\\n0               0       0    0  ...                  25   \n1               0       0    0  ...                   1   \n2               0       0    0  ...                  26   \n3               0       0    0  ...                 255   \n4               0       0    0  ...                 255   \n\n   dst_host_same_srv_rate  dst_host_diff_srv_rate  \\\n0                    0.17                    0.03   \n1                    0.00                    0.60   \n2                    0.10                    0.05   \n3                    1.00                    0.00   \n4                    1.00                    0.00   \n\n   dst_host_same_src_port_rate  dst_host_srv_diff_host_rate  \\\n0                         0.17                         0.00   \n1                         0.88                         0.00   \n2                         0.00                         0.00   \n3                         0.03                         0.04   \n4                         0.00                         0.00   \n\n   dst_host_serror_rate  dst_host_srv_serror_rate  dst_host_rerror_rate  \\\n0                  0.00                      0.00                  0.05   \n1                  0.00                      0.00                  0.00   \n2                  1.00                      1.00                  0.00   \n3                  0.03                      0.01                  0.00   \n4                  0.00                      0.00                  0.00   \n\n   dst_host_srv_rerror_rate   labels  \n0                      0.00   normal  \n1                      0.00   normal  \n2                      0.00  neptune  \n3                      0.01   normal  \n4                      0.00   normal  \n\n[5 rows x 42 columns]",
            "text/html": "<div>\n<style scoped>\n    .dataframe tbody tr th:only-of-type {\n        vertical-align: middle;\n    }\n\n    .dataframe tbody tr th {\n        vertical-align: top;\n    }\n\n    .dataframe thead th {\n        text-align: right;\n    }\n</style>\n<table border=\"1\" class=\"dataframe\">\n  <thead>\n    <tr style=\"text-align: right;\">\n      <th></th>\n      <th>duration</th>\n      <th>protocol_type</th>\n      <th>service</th>\n      <th>flag</th>\n      <th>src_bytes</th>\n      <th>dst_bytes</th>\n      <th>land</th>\n      <th>wrong_fragment</th>\n      <th>urgent</th>\n      <th>hot</th>\n      <th>...</th>\n      <th>dst_host_srv_count</th>\n      <th>dst_host_same_srv_rate</th>\n      <th>dst_host_diff_srv_rate</th>\n      <th>dst_host_same_src_port_rate</th>\n      <th>dst_host_srv_diff_host_rate</th>\n      <th>dst_host_serror_rate</th>\n      <th>dst_host_srv_serror_rate</th>\n      <th>dst_host_rerror_rate</th>\n      <th>dst_host_srv_rerror_rate</th>\n      <th>labels</th>\n    </tr>\n  </thead>\n  <tbody>\n    <tr>\n      <th>0</th>\n      <td>0</td>\n      <td>tcp</td>\n      <td>ftp_data</td>\n      <td>SF</td>\n      <td>491</td>\n      <td>0</td>\n      <td>0</td>\n      <td>0</td>\n      <td>0</td>\n      <td>0</td>\n      <td>...</td>\n      <td>25</td>\n      <td>0.17</td>\n      <td>0.03</td>\n      <td>0.17</td>\n      <td>0.00</td>\n      <td>0.00</td>\n      <td>0.00</td>\n      <td>0.05</td>\n      <td>0.00</td>\n      <td>normal</td>\n    </tr>\n    <tr>\n      <th>1</th>\n      <td>0</td>\n      <td>udp</td>\n      <td>other</td>\n      <td>SF</td>\n      <td>146</td>\n      <td>0</td>\n      <td>0</td>\n      <td>0</td>\n      <td>0</td>\n      <td>0</td>\n      <td>...</td>\n      <td>1</td>\n      <td>0.00</td>\n      <td>0.60</td>\n      <td>0.88</td>\n      <td>0.00</td>\n      <td>0.00</td>\n      <td>0.00</td>\n      <td>0.00</td>\n      <td>0.00</td>\n      <td>normal</td>\n    </tr>\n    <tr>\n      <th>2</th>\n      <td>0</td>\n      <td>tcp</td>\n      <td>private</td>\n      <td>S0</td>\n      <td>0</td>\n      <td>0</td>\n      <td>0</td>\n      <td>0</td>\n      <td>0</td>\n      <td>0</td>\n      <td>...</td>\n      <td>26</td>\n      <td>0.10</td>\n      <td>0.05</td>\n      <td>0.00</td>\n      <td>0.00</td>\n      <td>1.00</td>\n      <td>1.00</td>\n      <td>0.00</td>\n      <td>0.00</td>\n      <td>neptune</td>\n    </tr>\n    <tr>\n      <th>3</th>\n      <td>0</td>\n      <td>tcp</td>\n      <td>http</td>\n      <td>SF</td>\n      <td>232</td>\n      <td>8153</td>\n      <td>0</td>\n      <td>0</td>\n      <td>0</td>\n      <td>0</td>\n      <td>...</td>\n      <td>255</td>\n      <td>1.00</td>\n      <td>0.00</td>\n      <td>0.03</td>\n      <td>0.04</td>\n      <td>0.03</td>\n      <td>0.01</td>\n      <td>0.00</td>\n      <td>0.01</td>\n      <td>normal</td>\n    </tr>\n    <tr>\n      <th>4</th>\n      <td>0</td>\n      <td>tcp</td>\n      <td>http</td>\n      <td>SF</td>\n      <td>199</td>\n      <td>420</td>\n      <td>0</td>\n      <td>0</td>\n      <td>0</td>\n      <td>0</td>\n      <td>...</td>\n      <td>255</td>\n      <td>1.00</td>\n      <td>0.00</td>\n      <td>0.00</td>\n      <td>0.00</td>\n      <td>0.00</td>\n      <td>0.00</td>\n      <td>0.00</td>\n      <td>0.00</td>\n      <td>normal</td>\n    </tr>\n  </tbody>\n</table>\n<p>5 rows × 42 columns</p>\n</div>"
          },
          "metadata": {}
        }
      ]
    },
    {
      "cell_type": "code",
      "source": [
        "categ = ['protocol_type','service','flag','labels']\n",
        "# Encode Categorical Columns\n",
        "le = LabelEncoder()\n",
        "data[categ] = data[categ].apply(le.fit_transform)"
      ],
      "metadata": {
        "execution": {
          "iopub.status.busy": "2022-09-14T05:46:38.994185Z",
          "iopub.execute_input": "2022-09-14T05:46:38.995000Z",
          "iopub.status.idle": "2022-09-14T05:46:39.210719Z",
          "shell.execute_reply.started": "2022-09-14T05:46:38.994948Z",
          "shell.execute_reply": "2022-09-14T05:46:39.209586Z"
        },
        "trusted": true,
        "id": "aRr8GQ3qWNF7"
      },
      "execution_count": null,
      "outputs": []
    },
    {
      "cell_type": "code",
      "source": [
        "indexNames = data[ data['labels'] == 35 ].index\n",
        "# Delete these row indexes from dataFrame\n",
        "data.drop(indexNames , inplace=True)"
      ],
      "metadata": {
        "execution": {
          "iopub.status.busy": "2022-09-14T05:46:39.212335Z",
          "iopub.execute_input": "2022-09-14T05:46:39.213034Z",
          "iopub.status.idle": "2022-09-14T05:46:39.305104Z",
          "shell.execute_reply.started": "2022-09-14T05:46:39.212990Z",
          "shell.execute_reply": "2022-09-14T05:46:39.303796Z"
        },
        "trusted": true,
        "id": "6o-1J2hNWNF9"
      },
      "execution_count": null,
      "outputs": []
    },
    {
      "cell_type": "code",
      "source": [
        "X= data.iloc[:,0:41]\n",
        "Y=data['labels']"
      ],
      "metadata": {
        "execution": {
          "iopub.status.busy": "2022-09-14T05:46:39.307028Z",
          "iopub.execute_input": "2022-09-14T05:46:39.307710Z",
          "iopub.status.idle": "2022-09-14T05:46:39.330189Z",
          "shell.execute_reply.started": "2022-09-14T05:46:39.307663Z",
          "shell.execute_reply": "2022-09-14T05:46:39.328787Z"
        },
        "trusted": true,
        "id": "PqRveIymWNGB"
      },
      "execution_count": null,
      "outputs": []
    },
    {
      "cell_type": "markdown",
      "source": [
        "# Normalization"
      ],
      "metadata": {
        "id": "P2VR58xgWNGC"
      }
    },
    {
      "cell_type": "code",
      "source": [
        "scaler = Normalizer().fit(X)\n",
        "X= scaler.transform(X)"
      ],
      "metadata": {
        "execution": {
          "iopub.status.busy": "2022-09-14T05:46:39.332123Z",
          "iopub.execute_input": "2022-09-14T05:46:39.332931Z",
          "iopub.status.idle": "2022-09-14T05:46:39.429416Z",
          "shell.execute_reply.started": "2022-09-14T05:46:39.332856Z",
          "shell.execute_reply": "2022-09-14T05:46:39.428179Z"
        },
        "trusted": true,
        "id": "Yjf1eFczWNGD"
      },
      "execution_count": null,
      "outputs": []
    },
    {
      "cell_type": "markdown",
      "source": [
        "# Smote for data balancing (Synthetic Minority Over-sampling Technique)"
      ],
      "metadata": {
        "id": "ryBelWCmWNGE"
      }
    },
    {
      "cell_type": "code",
      "source": [
        "sm = SMOTE(random_state=42,k_neighbors=1)\n",
        "X_res, y_res = sm.fit_resample(X, Y)\n",
        "y_res.value_counts()"
      ],
      "metadata": {
        "execution": {
          "iopub.status.busy": "2022-09-14T05:46:39.430870Z",
          "iopub.execute_input": "2022-09-14T05:46:39.431298Z",
          "iopub.status.idle": "2022-09-14T05:47:16.346405Z",
          "shell.execute_reply.started": "2022-09-14T05:46:39.431256Z",
          "shell.execute_reply": "2022-09-14T05:47:16.344325Z"
        },
        "trusted": true,
        "id": "HhnDfZo_WNGF",
        "outputId": "f3cf4514-ae2b-4b55-dabd-d9a2cca712aa"
      },
      "execution_count": null,
      "outputs": [
        {
          "execution_count": 8,
          "output_type": "execute_result",
          "data": {
            "text/plain": "16    78587\n14    78587\n9     78587\n30    78587\n17    78587\n0     78587\n11    78587\n5     78587\n21    78587\n10    78587\n29    78587\n24    78587\n28    78587\n22    78587\n36    78587\n26    78587\n34    78587\n8     78587\n18    78587\n33    78587\n27    78587\n32    78587\n7     78587\n20    78587\n31    78587\n15    78587\n25    78587\n19    78587\n6     78587\n1     78587\n4     78587\n3     78587\n12    78587\n23    78587\n2     78587\n13    78587\nName: labels, dtype: int64"
          },
          "metadata": {}
        }
      ]
    },
    {
      "cell_type": "markdown",
      "source": [
        "# data split into train and testing "
      ],
      "metadata": {
        "id": "o0uqKLfrWNGG"
      }
    },
    {
      "cell_type": "code",
      "source": [
        "X_train , X_test , Y_train , Y_test = train_test_split(X_res,y_res, test_size=0.2 , stratify=y_res)\n",
        "Y_train.value_counts()"
      ],
      "metadata": {
        "execution": {
          "iopub.status.busy": "2022-09-14T05:47:16.348544Z",
          "iopub.execute_input": "2022-09-14T05:47:16.349032Z",
          "iopub.status.idle": "2022-09-14T05:47:17.810988Z",
          "shell.execute_reply.started": "2022-09-14T05:47:16.348986Z",
          "shell.execute_reply": "2022-09-14T05:47:17.809892Z"
        },
        "trusted": true,
        "id": "HY2NDsDkWNGG",
        "outputId": "1a14bd35-f12f-4fc0-c973-77ce90c7ccf8"
      },
      "execution_count": null,
      "outputs": [
        {
          "execution_count": 9,
          "output_type": "execute_result",
          "data": {
            "text/plain": "12    62870\n7     62870\n34    62870\n2     62870\n24    62870\n5     62870\n0     62870\n4     62870\n29    62870\n21    62870\n10    62870\n3     62870\n15    62870\n19    62870\n17    62870\n33    62870\n27    62870\n11    62870\n13    62870\n16    62870\n14    62870\n9     62869\n32    62869\n20    62869\n28    62869\n6     62869\n26    62869\n18    62869\n1     62869\n8     62869\n25    62869\n30    62869\n23    62869\n31    62869\n36    62869\n22    62869\nName: labels, dtype: int64"
          },
          "metadata": {}
        }
      ]
    },
    {
      "cell_type": "code",
      "source": [],
      "metadata": {
        "id": "jUZZmLiRc0yU"
      },
      "execution_count": null,
      "outputs": []
    },
    {
      "cell_type": "markdown",
      "source": [
        "# reshape dataset for input into cnn model"
      ],
      "metadata": {
        "id": "vu_Ae8XuWNGH"
      }
    },
    {
      "cell_type": "code",
      "source": [
        "# reshape input to be [samples, time steps, features]\n",
        "X_train = np.reshape(X_train, (X_train.shape[0],X_train.shape[1],1))\n",
        "X_test = np.reshape(X_test, (X_test.shape[0],X_test.shape[1],1))\n"
      ],
      "metadata": {
        "execution": {
          "iopub.status.busy": "2022-09-14T05:47:17.816248Z",
          "iopub.execute_input": "2022-09-14T05:47:17.817096Z",
          "iopub.status.idle": "2022-09-14T05:47:17.824190Z",
          "shell.execute_reply.started": "2022-09-14T05:47:17.817055Z",
          "shell.execute_reply": "2022-09-14T05:47:17.822983Z"
        },
        "trusted": true,
        "id": "BNolu0ZDWNGH"
      },
      "execution_count": null,
      "outputs": []
    },
    {
      "cell_type": "markdown",
      "source": [
        "# CNN Model Implementation"
      ],
      "metadata": {
        "id": "fHdRbN9dWNGI"
      }
    },
    {
      "cell_type": "code",
      "source": [
        "cnn = Sequential()\n",
        "\n",
        "cnn.add(Convolution1D(128,\n",
        "                 3,\n",
        "                 padding='valid',\n",
        "                 activation='relu',\n",
        "                 strides=1,\n",
        "                 input_shape=(41, 1)))\n",
        "cnn.add(MaxPooling1D(pool_size=2))\n",
        "cnn.add(Dropout(0.5))\n",
        "\n",
        "cnn.add(LSTM(70))\n",
        "cnn.add(Dense(41, activation=\"softmax\"))\n"
      ],
      "metadata": {
        "execution": {
          "iopub.status.busy": "2022-09-14T05:47:17.825821Z",
          "iopub.execute_input": "2022-09-14T05:47:17.827126Z",
          "iopub.status.idle": "2022-09-14T05:47:21.509040Z",
          "shell.execute_reply.started": "2022-09-14T05:47:17.827078Z",
          "shell.execute_reply": "2022-09-14T05:47:21.507837Z"
        },
        "trusted": true,
        "id": "IrO_2p1NWNGI",
        "outputId": "ef1e3bc7-52e9-4a38-8494-60e5c9039556"
      },
      "execution_count": null,
      "outputs": [
        {
          "name": "stderr",
          "text": "2022-09-14 05:47:17.941279: I tensorflow/stream_executor/cuda/cuda_gpu_executor.cc:937] successful NUMA node read from SysFS had negative value (-1), but there must be at least one NUMA node, so returning NUMA node zero\n2022-09-14 05:47:18.117363: I tensorflow/stream_executor/cuda/cuda_gpu_executor.cc:937] successful NUMA node read from SysFS had negative value (-1), but there must be at least one NUMA node, so returning NUMA node zero\n2022-09-14 05:47:18.118418: I tensorflow/stream_executor/cuda/cuda_gpu_executor.cc:937] successful NUMA node read from SysFS had negative value (-1), but there must be at least one NUMA node, so returning NUMA node zero\n2022-09-14 05:47:18.120436: I tensorflow/core/platform/cpu_feature_guard.cc:142] This TensorFlow binary is optimized with oneAPI Deep Neural Network Library (oneDNN) to use the following CPU instructions in performance-critical operations:  AVX2 AVX512F FMA\nTo enable them in other operations, rebuild TensorFlow with the appropriate compiler flags.\n2022-09-14 05:47:18.120890: I tensorflow/stream_executor/cuda/cuda_gpu_executor.cc:937] successful NUMA node read from SysFS had negative value (-1), but there must be at least one NUMA node, so returning NUMA node zero\n2022-09-14 05:47:18.121748: I tensorflow/stream_executor/cuda/cuda_gpu_executor.cc:937] successful NUMA node read from SysFS had negative value (-1), but there must be at least one NUMA node, so returning NUMA node zero\n2022-09-14 05:47:18.122527: I tensorflow/stream_executor/cuda/cuda_gpu_executor.cc:937] successful NUMA node read from SysFS had negative value (-1), but there must be at least one NUMA node, so returning NUMA node zero\n2022-09-14 05:47:20.688113: I tensorflow/stream_executor/cuda/cuda_gpu_executor.cc:937] successful NUMA node read from SysFS had negative value (-1), but there must be at least one NUMA node, so returning NUMA node zero\n2022-09-14 05:47:20.689151: I tensorflow/stream_executor/cuda/cuda_gpu_executor.cc:937] successful NUMA node read from SysFS had negative value (-1), but there must be at least one NUMA node, so returning NUMA node zero\n2022-09-14 05:47:20.690014: I tensorflow/stream_executor/cuda/cuda_gpu_executor.cc:937] successful NUMA node read from SysFS had negative value (-1), but there must be at least one NUMA node, so returning NUMA node zero\n2022-09-14 05:47:20.690756: I tensorflow/core/common_runtime/gpu/gpu_device.cc:1510] Created device /job:localhost/replica:0/task:0/device:GPU:0 with 15403 MB memory:  -> device: 0, name: Tesla P100-PCIE-16GB, pci bus id: 0000:00:04.0, compute capability: 6.0\n",
          "output_type": "stream"
        }
      ]
    },
    {
      "cell_type": "code",
      "source": [
        "cnn.compile(loss=\"sparse_categorical_crossentropy\", optimizer=\"adam\",metrics=['accuracy'])"
      ],
      "metadata": {
        "execution": {
          "iopub.status.busy": "2022-09-14T05:47:21.513480Z",
          "iopub.execute_input": "2022-09-14T05:47:21.513849Z",
          "iopub.status.idle": "2022-09-14T05:47:21.532099Z",
          "shell.execute_reply.started": "2022-09-14T05:47:21.513815Z",
          "shell.execute_reply": "2022-09-14T05:47:21.530671Z"
        },
        "trusted": true,
        "id": "XYwj4SijWNGJ"
      },
      "execution_count": null,
      "outputs": []
    },
    {
      "cell_type": "code",
      "source": [
        "history=cnn.fit(X_train, Y_train, epochs=10,verbose=1,batch_size=500,validation_data=(X_test, Y_test))"
      ],
      "metadata": {
        "execution": {
          "iopub.status.busy": "2022-09-14T05:47:21.534243Z",
          "iopub.execute_input": "2022-09-14T05:47:21.535183Z",
          "iopub.status.idle": "2022-09-14T05:53:07.737709Z",
          "shell.execute_reply.started": "2022-09-14T05:47:21.535134Z",
          "shell.execute_reply": "2022-09-14T05:53:07.736405Z"
        },
        "trusted": true,
        "id": "zWZT2z60WNGJ",
        "outputId": "879aade0-7a17-431c-a8e2-9f84ef296058"
      },
      "execution_count": null,
      "outputs": [
        {
          "name": "stderr",
          "text": "2022-09-14 05:47:22.549492: I tensorflow/compiler/mlir/mlir_graph_optimization_pass.cc:185] None of the MLIR Optimization Passes are enabled (registered 2)\n",
          "output_type": "stream"
        },
        {
          "name": "stdout",
          "text": "Epoch 1/10\n",
          "output_type": "stream"
        },
        {
          "name": "stderr",
          "text": "2022-09-14 05:47:25.472702: I tensorflow/stream_executor/cuda/cuda_dnn.cc:369] Loaded cuDNN version 8005\n",
          "output_type": "stream"
        },
        {
          "name": "stdout",
          "text": "4527/4527 [==============================] - 44s 7ms/step - loss: 0.7440 - accuracy: 0.7681 - val_loss: 0.2427 - val_accuracy: 0.9182\nEpoch 2/10\n4527/4527 [==============================] - 35s 8ms/step - loss: 0.2105 - accuracy: 0.9244 - val_loss: 0.1411 - val_accuracy: 0.9467\nEpoch 3/10\n4527/4527 [==============================] - 35s 8ms/step - loss: 0.1386 - accuracy: 0.9496 - val_loss: 0.0954 - val_accuracy: 0.9657\nEpoch 4/10\n4527/4527 [==============================] - 34s 7ms/step - loss: 0.1023 - accuracy: 0.9631 - val_loss: 0.0742 - val_accuracy: 0.9718\nEpoch 5/10\n4527/4527 [==============================] - 33s 7ms/step - loss: 0.0834 - accuracy: 0.9687 - val_loss: 0.0607 - val_accuracy: 0.9758\nEpoch 6/10\n4527/4527 [==============================] - 32s 7ms/step - loss: 0.0718 - accuracy: 0.9722 - val_loss: 0.0563 - val_accuracy: 0.9771\nEpoch 7/10\n4527/4527 [==============================] - 33s 7ms/step - loss: 0.0646 - accuracy: 0.9744 - val_loss: 0.0496 - val_accuracy: 0.9821\nEpoch 8/10\n4527/4527 [==============================] - 33s 7ms/step - loss: 0.0597 - accuracy: 0.9762 - val_loss: 0.0468 - val_accuracy: 0.9796\nEpoch 9/10\n4527/4527 [==============================] - 34s 8ms/step - loss: 0.0559 - accuracy: 0.9775 - val_loss: 0.0454 - val_accuracy: 0.9806\nEpoch 10/10\n4527/4527 [==============================] - 34s 7ms/step - loss: 0.0528 - accuracy: 0.9787 - val_loss: 0.0399 - val_accuracy: 0.9831\n",
          "output_type": "stream"
        }
      ]
    },
    {
      "cell_type": "markdown",
      "source": [
        "# Evaluation Model "
      ],
      "metadata": {
        "id": "nuVHnXc3WNGK"
      }
    },
    {
      "cell_type": "code",
      "source": [
        "plt.plot(history.history['accuracy'])\n",
        "plt.plot(history.history['val_accuracy'])\n",
        "plt.title('model accuracy')\n",
        "plt.ylabel('accuracy')\n",
        "plt.xlabel('epoch')\n",
        "plt.legend(['train', 'test'], loc='upper left')\n",
        "plt.show()"
      ],
      "metadata": {
        "execution": {
          "iopub.status.busy": "2022-09-14T05:53:07.743723Z",
          "iopub.execute_input": "2022-09-14T05:53:07.744227Z",
          "iopub.status.idle": "2022-09-14T05:53:08.037094Z",
          "shell.execute_reply.started": "2022-09-14T05:53:07.744181Z",
          "shell.execute_reply": "2022-09-14T05:53:08.035883Z"
        },
        "trusted": true,
        "id": "g_LJlm32WNGK",
        "outputId": "2da4aecf-de21-44c3-a0f6-4cc6487cdd32"
      },
      "execution_count": null,
      "outputs": [
        {
          "output_type": "display_data",
          "data": {
            "text/plain": "<Figure size 432x288 with 1 Axes>",
            "image/png": "[encoded data removed]"
          },
          "metadata": {
            "needs_background": "light"
          }
        }
      ]
    },
    {
      "cell_type": "code",
      "source": [
        "plt.plot(history.history['loss'])\n",
        "plt.plot(history.history['val_loss'])\n",
        "plt.title('model loss')\n",
        "plt.ylabel('loss')\n",
        "plt.xlabel('epoch')\n",
        "plt.legend(['train', 'test'], loc='upper left')\n",
        "plt.show()"
      ],
      "metadata": {
        "execution": {
          "iopub.status.busy": "2022-09-14T05:53:08.040204Z",
          "iopub.execute_input": "2022-09-14T05:53:08.041106Z",
          "iopub.status.idle": "2022-09-14T05:53:08.271964Z",
          "shell.execute_reply.started": "2022-09-14T05:53:08.041053Z",
          "shell.execute_reply": "2022-09-14T05:53:08.270877Z"
        },
        "trusted": true,
        "id": "sjWPUHWCWNGL",
        "outputId": "37d329d5-562a-483b-feae-d5de32743885"
      },
      "execution_count": null,
      "outputs": [
        {
          "output_type": "display_data",
          "data": {
            "text/plain": "<Figure size 432x288 with 1 Axes>",
            "image/png": "[encoded data removed]"
          },
          "metadata": {
            "needs_background": "light"
          }
        }
      ]
    },
    {
      "cell_type": "code",
      "source": [
        "loss, accuracy = cnn.evaluate(X_test, Y_test)\n",
        "print(\"\\nLoss: %.2f, Accuracy: %.2f%%\" % (loss, accuracy*100))"
      ],
      "metadata": {
        "execution": {
          "iopub.status.busy": "2022-09-14T05:53:08.273807Z",
          "iopub.execute_input": "2022-09-14T05:53:08.274284Z",
          "iopub.status.idle": "2022-09-14T05:54:08.420067Z",
          "shell.execute_reply.started": "2022-09-14T05:53:08.274231Z",
          "shell.execute_reply": "2022-09-14T05:54:08.418977Z"
        },
        "trusted": true,
        "id": "a6skJJmEWNGL",
        "outputId": "cb45275c-1ecd-4801-bc03-16445fdfb487"
      },
      "execution_count": null,
      "outputs": [
        {
          "name": "stdout",
          "text": "17683/17683 [==============================] - 60s 3ms/step - loss: 0.0399 - accuracy: 0.9831\n\nLoss: 0.04, Accuracy: 98.31%\n",
          "output_type": "stream"
        }
      ]
    },
    {
      "cell_type": "markdown",
      "source": [
        "# Save model for use "
      ],
      "metadata": {
        "id": "AI5KI5hAWNGM"
      }
    },
    {
      "cell_type": "code",
      "source": [
        "save_model(cnn,'NSL_KDD_CNN.h5')"
      ],
      "metadata": {
        "execution": {
          "iopub.status.busy": "2022-09-14T05:54:08.421900Z",
          "iopub.execute_input": "2022-09-14T05:54:08.422612Z",
          "iopub.status.idle": "2022-09-14T05:54:08.456691Z",
          "shell.execute_reply.started": "2022-09-14T05:54:08.422566Z",
          "shell.execute_reply": "2022-09-14T05:54:08.455600Z"
        },
        "trusted": true,
        "id": "PqJOzqYVWNGM"
      },
      "execution_count": null,
      "outputs": []
    },
    {
      "cell_type": "markdown",
      "source": [
        "# Load Model for testing"
      ],
      "metadata": {
        "id": "C3xo7q78WNGN"
      }
    },
    {
      "cell_type": "code",
      "source": [
        "model2=load_model('NSL_KDD_CNN.h5')"
      ],
      "metadata": {
        "execution": {
          "iopub.status.busy": "2022-09-14T05:54:08.461155Z",
          "iopub.execute_input": "2022-09-14T05:54:08.461710Z",
          "iopub.status.idle": "2022-09-14T05:54:08.777160Z",
          "shell.execute_reply.started": "2022-09-14T05:54:08.461668Z",
          "shell.execute_reply": "2022-09-14T05:54:08.775773Z"
        },
        "trusted": true,
        "id": "vJMLA33PWNGN"
      },
      "execution_count": null,
      "outputs": []
    },
    {
      "cell_type": "code",
      "source": [
        "model2.evaluate(X_test,Y_test)"
      ],
      "metadata": {
        "execution": {
          "iopub.status.busy": "2022-09-14T05:54:08.778777Z",
          "iopub.execute_input": "2022-09-14T05:54:08.779204Z",
          "iopub.status.idle": "2022-09-14T05:55:09.913715Z",
          "shell.execute_reply.started": "2022-09-14T05:54:08.779153Z",
          "shell.execute_reply": "2022-09-14T05:55:09.912670Z"
        },
        "trusted": true,
        "id": "UpSOeHkXWNGP",
        "outputId": "e44cbbc5-6001-4612-b2b9-0e3a89eac118"
      },
      "execution_count": null,
      "outputs": [
        {
          "name": "stdout",
          "text": "17683/17683 [==============================] - 61s 3ms/step - loss: 0.0399 - accuracy: 0.9831\n",
          "output_type": "stream"
        },
        {
          "execution_count": 19,
          "output_type": "execute_result",
          "data": {
            "text/plain": "[0.03989468514919281, 0.983093798160553]"
          },
          "metadata": {}
        }
      ]
    },
    {
      "cell_type": "code",
      "source": [
        "model2.predict(X_test[[0]])"
      ],
      "metadata": {
        "execution": {
          "iopub.status.busy": "2022-09-14T05:55:09.916034Z",
          "iopub.execute_input": "2022-09-14T05:55:09.917201Z",
          "iopub.status.idle": "2022-09-14T05:55:10.382237Z",
          "shell.execute_reply.started": "2022-09-14T05:55:09.917157Z",
          "shell.execute_reply": "2022-09-14T05:55:10.380938Z"
        },
        "trusted": true,
        "id": "GdeM86VcWNGQ",
        "outputId": "77aa1af3-86f2-4ec5-d672-142d1ba2eefd"
      },
      "execution_count": null,
      "outputs": [
        {
          "execution_count": 20,
          "output_type": "execute_result",
          "data": {
            "text/plain": "array([[9.38934369e-13, 2.02915060e-14, 2.83944892e-14, 8.06073361e-13,\n        8.55995640e-14, 6.79670831e-16, 3.94030119e-16, 2.31182025e-08,\n        2.67368354e-12, 2.49853888e-16, 2.90255557e-19, 1.79181097e-08,\n        3.27020098e-17, 2.59926525e-11, 9.99999881e-01, 3.07758410e-16,\n        9.03734598e-09, 1.35533662e-16, 1.05696972e-12, 2.52643855e-16,\n        6.04981309e-08, 4.39310627e-17, 1.21546277e-16, 2.35471221e-15,\n        4.38926923e-10, 5.17706378e-10, 7.37032749e-17, 3.26570124e-13,\n        6.48863897e-14, 4.95712103e-17, 1.57593574e-11, 1.69594580e-14,\n        1.12145915e-13, 2.25680932e-10, 9.08067499e-14, 9.70151050e-15,\n        6.58408154e-15, 9.08685596e-15, 1.49647293e-14, 6.90985677e-15,\n        1.09757767e-14]], dtype=float32)"
          },
          "metadata": {}
        }
      ]
    },
    {
      "cell_type": "code",
      "source": [
        "b=model2.predict(X_test)"
      ],
      "metadata": {
        "execution": {
          "iopub.status.busy": "2022-09-14T05:55:10.384287Z",
          "iopub.execute_input": "2022-09-14T05:55:10.384768Z",
          "iopub.status.idle": "2022-09-14T05:55:44.685961Z",
          "shell.execute_reply.started": "2022-09-14T05:55:10.384721Z",
          "shell.execute_reply": "2022-09-14T05:55:44.684681Z"
        },
        "trusted": true,
        "id": "UcWWMs_RWNGQ"
      },
      "execution_count": null,
      "outputs": []
    },
    {
      "cell_type": "code",
      "source": [
        "b"
      ],
      "metadata": {
        "execution": {
          "iopub.status.busy": "2022-09-14T05:55:44.688635Z",
          "iopub.execute_input": "2022-09-14T05:55:44.689150Z",
          "iopub.status.idle": "2022-09-14T05:55:44.698910Z",
          "shell.execute_reply.started": "2022-09-14T05:55:44.689102Z",
          "shell.execute_reply": "2022-09-14T05:55:44.697459Z"
        },
        "trusted": true,
        "id": "B4bQ1L7gWNGR",
        "outputId": "3b6f49eb-0969-4ea6-d8e4-af9c52822a87"
      },
      "execution_count": null,
      "outputs": [
        {
          "execution_count": 22,
          "output_type": "execute_result",
          "data": {
            "text/plain": "array([[9.38930791e-13, 2.02913891e-14, 2.83943825e-14, ...,\n        1.49646717e-14, 6.90983051e-15, 1.09757352e-14],\n       [2.12558248e-12, 9.15632587e-13, 1.25771686e-08, ...,\n        1.58260547e-12, 1.88516325e-12, 7.20391411e-13],\n       [3.94514776e-09, 2.89424240e-09, 1.34142235e-08, ...,\n        1.25234745e-09, 6.31902419e-10, 6.45279330e-10],\n       ...,\n       [2.10304029e-06, 9.99492645e-01, 2.62442927e-06, ...,\n        7.42861272e-10, 8.19548096e-10, 5.80553883e-10],\n       [1.71683834e-10, 2.69611355e-09, 1.87930365e-08, ...,\n        2.58335124e-11, 4.73191174e-11, 2.41208078e-11],\n       [7.01944058e-10, 9.97061312e-01, 1.19662633e-04, ...,\n        4.70027825e-13, 5.27864156e-13, 4.18370525e-13]], dtype=float32)"
          },
          "metadata": {}
        }
      ]
    },
    {
      "cell_type": "code",
      "source": [
        "np.argmax(b[0])"
      ],
      "metadata": {
        "execution": {
          "iopub.status.busy": "2022-09-14T05:55:44.701413Z",
          "iopub.execute_input": "2022-09-14T05:55:44.702404Z",
          "iopub.status.idle": "2022-09-14T05:55:44.711719Z",
          "shell.execute_reply.started": "2022-09-14T05:55:44.702354Z",
          "shell.execute_reply": "2022-09-14T05:55:44.710164Z"
        },
        "trusted": true,
        "id": "ocZzqX6AWNGR",
        "outputId": "268d6b03-c14b-4411-c962-c4cf8799767f"
      },
      "execution_count": null,
      "outputs": [
        {
          "execution_count": 23,
          "output_type": "execute_result",
          "data": {
            "text/plain": "14"
          },
          "metadata": {}
        }
      ]
    },
    {
      "cell_type": "code",
      "source": [
        "Y.head"
      ],
      "metadata": {
        "execution": {
          "iopub.status.busy": "2022-09-14T05:55:44.714612Z",
          "iopub.execute_input": "2022-09-14T05:55:44.715850Z",
          "iopub.status.idle": "2022-09-14T05:55:44.727059Z",
          "shell.execute_reply.started": "2022-09-14T05:55:44.715798Z",
          "shell.execute_reply": "2022-09-14T05:55:44.725650Z"
        },
        "trusted": true,
        "id": "XpPL6CQxWNGR",
        "outputId": "b376f6ca-410b-433b-e656-6d755c7b149e"
      },
      "execution_count": null,
      "outputs": [
        {
          "execution_count": 24,
          "output_type": "execute_result",
          "data": {
            "text/plain": "<bound method NDFrame.head of 0        16\n1        16\n2        14\n3        16\n4        16\n         ..\n22539    25\n22540    16\n22541    14\n22542    20\n22543    16\nName: labels, Length: 148515, dtype: int64>"
          },
          "metadata": {}
        }
      ]
    },
    {
      "cell_type": "code",
      "source": [
        "data['labels']"
      ],
      "metadata": {
        "execution": {
          "iopub.status.busy": "2022-09-14T05:55:44.729797Z",
          "iopub.execute_input": "2022-09-14T05:55:44.731114Z",
          "iopub.status.idle": "2022-09-14T05:55:44.742504Z",
          "shell.execute_reply.started": "2022-09-14T05:55:44.731059Z",
          "shell.execute_reply": "2022-09-14T05:55:44.740947Z"
        },
        "trusted": true,
        "id": "br9Dzr9sWNGS",
        "outputId": "aaebb8eb-a5a0-43ac-a3dd-34149f251e8c"
      },
      "execution_count": null,
      "outputs": [
        {
          "execution_count": 25,
          "output_type": "execute_result",
          "data": {
            "text/plain": "0        16\n1        16\n2        14\n3        16\n4        16\n         ..\n22539    25\n22540    16\n22541    14\n22542    20\n22543    16\nName: labels, Length: 148515, dtype: int64"
          },
          "metadata": {}
        }
      ]
    },
    {
      "cell_type": "code",
      "source": [
        "data2 = pd.concat([traindata,testdata])\n",
        "data2.head()"
      ],
      "metadata": {
        "execution": {
          "iopub.status.busy": "2022-09-14T05:55:44.744798Z",
          "iopub.execute_input": "2022-09-14T05:55:44.745380Z",
          "iopub.status.idle": "2022-09-14T05:55:44.821925Z",
          "shell.execute_reply.started": "2022-09-14T05:55:44.745335Z",
          "shell.execute_reply": "2022-09-14T05:55:44.820384Z"
        },
        "trusted": true,
        "id": "jN3hS660WNGS",
        "outputId": "7f93d0b8-fd8e-4b74-e9a5-65f61d52c511"
      },
      "execution_count": null,
      "outputs": [
        {
          "execution_count": 26,
          "output_type": "execute_result",
          "data": {
            "text/plain": "   duration protocol_type   service flag  src_bytes  dst_bytes  land  \\\n0         0           tcp  ftp_data   SF        491          0     0   \n1         0           udp     other   SF        146          0     0   \n2         0           tcp   private   S0          0          0     0   \n3         0           tcp      http   SF        232       8153     0   \n4         0           tcp      http   SF        199        420     0   \n\n   wrong_fragment  urgent  hot  ...  dst_host_srv_count  \\\n0               0       0    0  ...                  25   \n1               0       0    0  ...                   1   \n2               0       0    0  ...                  26   \n3               0       0    0  ...                 255   \n4               0       0    0  ...                 255   \n\n   dst_host_same_srv_rate  dst_host_diff_srv_rate  \\\n0                    0.17                    0.03   \n1                    0.00                    0.60   \n2                    0.10                    0.05   \n3                    1.00                    0.00   \n4                    1.00                    0.00   \n\n   dst_host_same_src_port_rate  dst_host_srv_diff_host_rate  \\\n0                         0.17                         0.00   \n1                         0.88                         0.00   \n2                         0.00                         0.00   \n3                         0.03                         0.04   \n4                         0.00                         0.00   \n\n   dst_host_serror_rate  dst_host_srv_serror_rate  dst_host_rerror_rate  \\\n0                  0.00                      0.00                  0.05   \n1                  0.00                      0.00                  0.00   \n2                  1.00                      1.00                  0.00   \n3                  0.03                      0.01                  0.00   \n4                  0.00                      0.00                  0.00   \n\n   dst_host_srv_rerror_rate   labels  \n0                      0.00   normal  \n1                      0.00   normal  \n2                      0.00  neptune  \n3                      0.01   normal  \n4                      0.00   normal  \n\n[5 rows x 42 columns]",
            "text/html": "<div>\n<style scoped>\n    .dataframe tbody tr th:only-of-type {\n        vertical-align: middle;\n    }\n\n    .dataframe tbody tr th {\n        vertical-align: top;\n    }\n\n    .dataframe thead th {\n        text-align: right;\n    }\n</style>\n<table border=\"1\" class=\"dataframe\">\n  <thead>\n    <tr style=\"text-align: right;\">\n      <th></th>\n      <th>duration</th>\n      <th>protocol_type</th>\n      <th>service</th>\n      <th>flag</th>\n      <th>src_bytes</th>\n      <th>dst_bytes</th>\n      <th>land</th>\n      <th>wrong_fragment</th>\n      <th>urgent</th>\n      <th>hot</th>\n      <th>...</th>\n      <th>dst_host_srv_count</th>\n      <th>dst_host_same_srv_rate</th>\n      <th>dst_host_diff_srv_rate</th>\n      <th>dst_host_same_src_port_rate</th>\n      <th>dst_host_srv_diff_host_rate</th>\n      <th>dst_host_serror_rate</th>\n      <th>dst_host_srv_serror_rate</th>\n      <th>dst_host_rerror_rate</th>\n      <th>dst_host_srv_rerror_rate</th>\n      <th>labels</th>\n    </tr>\n  </thead>\n  <tbody>\n    <tr>\n      <th>0</th>\n      <td>0</td>\n      <td>tcp</td>\n      <td>ftp_data</td>\n      <td>SF</td>\n      <td>491</td>\n      <td>0</td>\n      <td>0</td>\n      <td>0</td>\n      <td>0</td>\n      <td>0</td>\n      <td>...</td>\n      <td>25</td>\n      <td>0.17</td>\n      <td>0.03</td>\n      <td>0.17</td>\n      <td>0.00</td>\n      <td>0.00</td>\n      <td>0.00</td>\n      <td>0.05</td>\n      <td>0.00</td>\n      <td>normal</td>\n    </tr>\n    <tr>\n      <th>1</th>\n      <td>0</td>\n      <td>udp</td>\n      <td>other</td>\n      <td>SF</td>\n      <td>146</td>\n      <td>0</td>\n      <td>0</td>\n      <td>0</td>\n      <td>0</td>\n      <td>0</td>\n      <td>...</td>\n      <td>1</td>\n      <td>0.00</td>\n      <td>0.60</td>\n      <td>0.88</td>\n      <td>0.00</td>\n      <td>0.00</td>\n      <td>0.00</td>\n      <td>0.00</td>\n      <td>0.00</td>\n      <td>normal</td>\n    </tr>\n    <tr>\n      <th>2</th>\n      <td>0</td>\n      <td>tcp</td>\n      <td>private</td>\n      <td>S0</td>\n      <td>0</td>\n      <td>0</td>\n      <td>0</td>\n      <td>0</td>\n      <td>0</td>\n      <td>0</td>\n      <td>...</td>\n      <td>26</td>\n      <td>0.10</td>\n      <td>0.05</td>\n      <td>0.00</td>\n      <td>0.00</td>\n      <td>1.00</td>\n      <td>1.00</td>\n      <td>0.00</td>\n      <td>0.00</td>\n      <td>neptune</td>\n    </tr>\n    <tr>\n      <th>3</th>\n      <td>0</td>\n      <td>tcp</td>\n      <td>http</td>\n      <td>SF</td>\n      <td>232</td>\n      <td>8153</td>\n      <td>0</td>\n      <td>0</td>\n      <td>0</td>\n      <td>0</td>\n      <td>...</td>\n      <td>255</td>\n      <td>1.00</td>\n      <td>0.00</td>\n      <td>0.03</td>\n      <td>0.04</td>\n      <td>0.03</td>\n      <td>0.01</td>\n      <td>0.00</td>\n      <td>0.01</td>\n      <td>normal</td>\n    </tr>\n    <tr>\n      <th>4</th>\n      <td>0</td>\n      <td>tcp</td>\n      <td>http</td>\n      <td>SF</td>\n      <td>199</td>\n      <td>420</td>\n      <td>0</td>\n      <td>0</td>\n      <td>0</td>\n      <td>0</td>\n      <td>...</td>\n      <td>255</td>\n      <td>1.00</td>\n      <td>0.00</td>\n      <td>0.00</td>\n      <td>0.00</td>\n      <td>0.00</td>\n      <td>0.00</td>\n      <td>0.00</td>\n      <td>0.00</td>\n      <td>normal</td>\n    </tr>\n  </tbody>\n</table>\n<p>5 rows × 42 columns</p>\n</div>"
          },
          "metadata": {}
        }
      ]
    },
    {
      "cell_type": "code",
      "source": [
        "Y2=data2['labels']\n",
        "Y2.head"
      ],
      "metadata": {
        "execution": {
          "iopub.status.busy": "2022-09-14T05:55:44.824460Z",
          "iopub.execute_input": "2022-09-14T05:55:44.825016Z",
          "iopub.status.idle": "2022-09-14T05:55:44.836499Z",
          "shell.execute_reply.started": "2022-09-14T05:55:44.824964Z",
          "shell.execute_reply": "2022-09-14T05:55:44.835072Z"
        },
        "trusted": true,
        "id": "p0bYwqDQWNGT",
        "outputId": "b3ff3b1e-a705-4ff3-f718-dc113fcbf616"
      },
      "execution_count": null,
      "outputs": [
        {
          "execution_count": 27,
          "output_type": "execute_result",
          "data": {
            "text/plain": "<bound method NDFrame.head of 0           normal\n1           normal\n2          neptune\n3           normal\n4           normal\n           ...    \n22539        satan\n22540       normal\n22541      neptune\n22542    portsweep\n22543       normal\nName: labels, Length: 148517, dtype: object>"
          },
          "metadata": {}
        }
      ]
    },
    {
      "cell_type": "code",
      "source": [
        "type=Y2.value_counts()\n"
      ],
      "metadata": {
        "execution": {
          "iopub.status.busy": "2022-09-14T05:55:44.847167Z",
          "iopub.execute_input": "2022-09-14T05:55:44.849001Z",
          "iopub.status.idle": "2022-09-14T05:55:44.867251Z",
          "shell.execute_reply.started": "2022-09-14T05:55:44.848947Z",
          "shell.execute_reply": "2022-09-14T05:55:44.865918Z"
        },
        "trusted": true,
        "id": "hACVtyTTWNGT"
      },
      "execution_count": null,
      "outputs": []
    },
    {
      "cell_type": "code",
      "source": [
        "print(type[0])"
      ],
      "metadata": {
        "execution": {
          "iopub.status.busy": "2022-09-14T05:55:44.871351Z",
          "iopub.execute_input": "2022-09-14T05:55:44.871759Z",
          "iopub.status.idle": "2022-09-14T05:55:44.879261Z",
          "shell.execute_reply.started": "2022-09-14T05:55:44.871723Z",
          "shell.execute_reply": "2022-09-14T05:55:44.877529Z"
        },
        "trusted": true,
        "id": "GOSZfHcCWNGT",
        "outputId": "0ce0f3d0-9ad4-498a-f170-ffbefa647628"
      },
      "execution_count": null,
      "outputs": [
        {
          "name": "stdout",
          "text": "78588\n",
          "output_type": "stream"
        }
      ]
    },
    {
      "cell_type": "code",
      "source": [
        "key=type.keys()"
      ],
      "metadata": {
        "execution": {
          "iopub.status.busy": "2022-09-14T05:55:44.881580Z",
          "iopub.execute_input": "2022-09-14T05:55:44.882503Z",
          "iopub.status.idle": "2022-09-14T05:55:44.890420Z",
          "shell.execute_reply.started": "2022-09-14T05:55:44.882453Z",
          "shell.execute_reply": "2022-09-14T05:55:44.888156Z"
        },
        "trusted": true,
        "id": "_DkcVUhfWNGU"
      },
      "execution_count": null,
      "outputs": []
    },
    {
      "cell_type": "code",
      "source": [
        "labels=[]\n",
        "for i in key:\n",
        "    labels.append(i)"
      ],
      "metadata": {
        "execution": {
          "iopub.status.busy": "2022-09-14T05:55:44.892299Z",
          "iopub.execute_input": "2022-09-14T05:55:44.893737Z",
          "iopub.status.idle": "2022-09-14T05:55:44.901522Z",
          "shell.execute_reply.started": "2022-09-14T05:55:44.893689Z",
          "shell.execute_reply": "2022-09-14T05:55:44.899845Z"
        },
        "trusted": true,
        "id": "qe4bOXqfWNGU"
      },
      "execution_count": null,
      "outputs": []
    },
    {
      "cell_type": "code",
      "source": [
        "labels"
      ],
      "metadata": {
        "execution": {
          "iopub.status.busy": "2022-09-14T05:55:44.903652Z",
          "iopub.execute_input": "2022-09-14T05:55:44.904931Z",
          "iopub.status.idle": "2022-09-14T05:55:44.919230Z",
          "shell.execute_reply.started": "2022-09-14T05:55:44.904851Z",
          "shell.execute_reply": "2022-09-14T05:55:44.917517Z"
        },
        "trusted": true,
        "id": "fPh1VSJPWNGU",
        "outputId": "7048fccd-4ca0-4381-a7a8-3bd2282baee2"
      },
      "execution_count": null,
      "outputs": [
        {
          "execution_count": 32,
          "output_type": "execute_result",
          "data": {
            "text/plain": "['normal',\n 'neptune',\n 'satan',\n 'ipsweep',\n 'portsweep',\n 'smurf',\n 'nmap',\n 'back',\n 'warezclient',\n 'teardrop',\n 'guess_passwd',\n 'mscan',\n 'warezmaster',\n 'pod',\n 'apache2',\n 'processtable',\n 'snmpguess',\n 'mailbomb',\n 'saint',\n 'buffer_overflow',\n 'snmpgetattack',\n 'httptunnel',\n 'land',\n 'multihop',\n 'rootkit',\n 'loadmodule',\n 'imap',\n 'ftp_write',\n 'ps',\n 'sendmail',\n 'phf',\n 'perl',\n 'xlock',\n 'xterm',\n 'spy',\n 'named',\n 'xsnoop']"
          },
          "metadata": {}
        }
      ]
    },
    {
      "cell_type": "code",
      "source": [
        "print(labels[np.argmax(b[0])])"
      ],
      "metadata": {
        "execution": {
          "iopub.status.busy": "2022-09-14T05:55:44.921572Z",
          "iopub.execute_input": "2022-09-14T05:55:44.922234Z",
          "iopub.status.idle": "2022-09-14T05:55:44.930628Z",
          "shell.execute_reply.started": "2022-09-14T05:55:44.922187Z",
          "shell.execute_reply": "2022-09-14T05:55:44.929388Z"
        },
        "trusted": true,
        "id": "FxJlL6WNWNGV",
        "outputId": "37d04817-170a-4c32-ee4b-1dab0b92b46a"
      },
      "execution_count": null,
      "outputs": [
        {
          "name": "stdout",
          "text": "apache2\n",
          "output_type": "stream"
        }
      ]
    },
    {
      "cell_type": "code",
      "source": [
        "len(labels)"
      ],
      "metadata": {
        "execution": {
          "iopub.status.busy": "2022-09-14T05:55:44.932978Z",
          "iopub.execute_input": "2022-09-14T05:55:44.933432Z",
          "iopub.status.idle": "2022-09-14T05:55:44.946290Z",
          "shell.execute_reply.started": "2022-09-14T05:55:44.933388Z",
          "shell.execute_reply": "2022-09-14T05:55:44.944954Z"
        },
        "trusted": true,
        "id": "ts9Ar8pGWNGV",
        "outputId": "98bfffeb-6471-4d1b-fd41-454bfddb0454"
      },
      "execution_count": null,
      "outputs": [
        {
          "execution_count": 34,
          "output_type": "execute_result",
          "data": {
            "text/plain": "37"
          },
          "metadata": {}
        }
      ]
    },
    {
      "cell_type": "code",
      "source": [
        "Y_test.shape"
      ],
      "metadata": {
        "execution": {
          "iopub.status.busy": "2022-09-14T05:55:44.948340Z",
          "iopub.execute_input": "2022-09-14T05:55:44.949660Z",
          "iopub.status.idle": "2022-09-14T05:55:44.960728Z",
          "shell.execute_reply.started": "2022-09-14T05:55:44.949626Z",
          "shell.execute_reply": "2022-09-14T05:55:44.958948Z"
        },
        "trusted": true,
        "id": "3hrw86GRWNGV",
        "outputId": "ba3aa110-48a0-4836-9a9c-8517d93fac91"
      },
      "execution_count": null,
      "outputs": [
        {
          "execution_count": 35,
          "output_type": "execute_result",
          "data": {
            "text/plain": "(565827,)"
          },
          "metadata": {}
        }
      ]
    },
    {
      "cell_type": "code",
      "source": [
        "predi=[]\n",
        "actual=[]\n",
        "for i in b:\n",
        "    predi.append(labels[np.argmax(i)])\n",
        "for i in Y_test:\n",
        "    actual.append(labels[i])"
      ],
      "metadata": {
        "execution": {
          "iopub.status.busy": "2022-09-14T05:55:44.963692Z",
          "iopub.execute_input": "2022-09-14T05:55:44.964259Z",
          "iopub.status.idle": "2022-09-14T05:55:46.395166Z",
          "shell.execute_reply.started": "2022-09-14T05:55:44.964212Z",
          "shell.execute_reply": "2022-09-14T05:55:46.393894Z"
        },
        "trusted": true,
        "id": "trqq17OkWNGW"
      },
      "execution_count": null,
      "outputs": []
    },
    {
      "cell_type": "code",
      "source": [
        "len(predi)\n",
        "len(actual)"
      ],
      "metadata": {
        "execution": {
          "iopub.status.busy": "2022-09-14T05:55:46.396592Z",
          "iopub.execute_input": "2022-09-14T05:55:46.397055Z",
          "iopub.status.idle": "2022-09-14T05:55:46.406286Z",
          "shell.execute_reply.started": "2022-09-14T05:55:46.397006Z",
          "shell.execute_reply": "2022-09-14T05:55:46.404934Z"
        },
        "trusted": true,
        "id": "oEQuGX_1WNGW",
        "outputId": "2beeafc2-4772-415f-b0bc-b107458587c3"
      },
      "execution_count": null,
      "outputs": [
        {
          "execution_count": 37,
          "output_type": "execute_result",
          "data": {
            "text/plain": "565827"
          },
          "metadata": {}
        }
      ]
    },
    {
      "cell_type": "code",
      "source": [
        "len(labels)"
      ],
      "metadata": {
        "execution": {
          "iopub.status.busy": "2022-09-14T05:55:46.408341Z",
          "iopub.execute_input": "2022-09-14T05:55:46.409136Z",
          "iopub.status.idle": "2022-09-14T05:55:46.418162Z",
          "shell.execute_reply.started": "2022-09-14T05:55:46.409094Z",
          "shell.execute_reply": "2022-09-14T05:55:46.416947Z"
        },
        "trusted": true,
        "id": "hwKoRcZBWNGW",
        "outputId": "e4aecc8c-46ac-4bd4-fbd2-7d999c027a05"
      },
      "execution_count": null,
      "outputs": [
        {
          "execution_count": 38,
          "output_type": "execute_result",
          "data": {
            "text/plain": "37"
          },
          "metadata": {}
        }
      ]
    },
    {
      "cell_type": "markdown",
      "source": [
        "# Confusion Matrix"
      ],
      "metadata": {
        "id": "LAjmJbb2WNGX"
      }
    },
    {
      "cell_type": "code",
      "source": [
        "from sklearn.metrics import confusion_matrix, classification_report\n",
        "import seaborn as sns\n",
        "cm = confusion_matrix(np.array(actual),np.array(predi))\n",
        "# plot the confusion matrix\n",
        "plt.figure(figsize=(20, 20))\n",
        "sns.heatmap(cm, annot=True, vmin=0, fmt='g', cmap='Blues', cbar=False)       \n",
        "plt.xticks(np.arange(37)+.5, labels, rotation=90)\n",
        "plt.yticks(np.arange(37)+.5, labels, rotation=0)\n",
        "plt.xlabel(\"Predicted\")\n",
        "plt.ylabel(\"Actual\")\n",
        "plt.title(\"Confusion Matrix\")\n",
        "plt.show()"
      ],
      "metadata": {
        "execution": {
          "iopub.status.busy": "2022-09-14T05:55:46.420346Z",
          "iopub.execute_input": "2022-09-14T05:55:46.421152Z",
          "iopub.status.idle": "2022-09-14T05:55:53.750266Z",
          "shell.execute_reply.started": "2022-09-14T05:55:46.421110Z",
          "shell.execute_reply": "2022-09-14T05:55:53.749157Z"
        },
        "trusted": true,
        "id": "igfScRMtWNGX",
        "outputId": "532cc8a9-a9c0-4117-85f5-015f0a0b6ced"
      },
      "execution_count": null,
      "outputs": [
        {
          "output_type": "display_data",
          "data": {
            "text/plain": "<Figure size 1440x1440 with 1 Axes>",
            "image/png": "[encoded data removed]"
          },
          "metadata": {
            "needs_background": "light"
          }
        }
      ]
    },
    {
      "cell_type": "code",
      "source": [
        "l=set(actual)"
      ],
      "metadata": {
        "execution": {
          "iopub.status.busy": "2022-09-14T05:55:53.751464Z",
          "iopub.execute_input": "2022-09-14T05:55:53.751805Z",
          "iopub.status.idle": "2022-09-14T05:55:53.767965Z",
          "shell.execute_reply.started": "2022-09-14T05:55:53.751771Z",
          "shell.execute_reply": "2022-09-14T05:55:53.764361Z"
        },
        "trusted": true,
        "id": "MRIf6ytoWNGY"
      },
      "execution_count": null,
      "outputs": []
    },
    {
      "cell_type": "markdown",
      "source": [
        "# Classification report"
      ],
      "metadata": {
        "id": "uccc6PZbWNGY"
      }
    },
    {
      "cell_type": "code",
      "source": [
        "clr = classification_report(np.array(actual),np.array(predi), target_names=l, digits= 4)\n",
        "print(\"Classification Report:\\n----------------------\\n\", clr)"
      ],
      "metadata": {
        "execution": {
          "iopub.status.busy": "2022-09-14T05:55:53.770312Z",
          "iopub.execute_input": "2022-09-14T05:55:53.770827Z",
          "iopub.status.idle": "2022-09-14T05:56:07.790143Z",
          "shell.execute_reply.started": "2022-09-14T05:55:53.770785Z",
          "shell.execute_reply": "2022-09-14T05:56:07.788947Z"
        },
        "trusted": true,
        "id": "mbnBogChWNGY",
        "outputId": "b4516b61-406c-4eb6-cb6a-fd8ce65a9471"
      },
      "execution_count": null,
      "outputs": [
        {
          "name": "stdout",
          "text": "Classification Report:\n----------------------\n                  precision    recall  f1-score   support\n\n             ps     0.9995    0.9945    0.9970     15717\n   guess_passwd     0.9893    0.9959    0.9926     15717\n          xterm     0.9984    1.0000    0.9992     15717\n            phf     0.9995    0.9996    0.9996     15717\n    warezmaster     0.9984    1.0000    0.9992     15717\n           land     0.9999    1.0000    1.0000     15717\n  snmpgetattack     0.9994    1.0000    0.9997     15718\n        rootkit     0.9988    0.9947    0.9967     15717\n      snmpguess     0.9977    1.0000    0.9988     15718\n           imap     0.9502    0.7762    0.8544     15718\n            spy     1.0000    1.0000    1.0000     15717\n          smurf     0.9964    0.9998    0.9981     15717\n       sendmail     0.9982    0.9987    0.9984     15718\n          saint     0.9999    0.9927    0.9963     15718\n     loadmodule     0.9994    0.9989    0.9991     15718\n       teardrop     0.9992    1.0000    0.9996     15717\n        neptune     0.9994    1.0000    0.9997     15718\n        ipsweep     0.9996    1.0000    0.9998     15718\n         xsnoop     0.9999    1.0000    0.9999     15717\n           back     0.9976    0.9990    0.9983     15717\n           perl     0.9941    0.9930    0.9935     15717\n          satan     0.9917    1.0000    0.9958     15718\n            pod     0.8152    0.9726    0.8870     15717\n        apache2     0.9999    1.0000    1.0000     15718\n          xlock     0.9924    0.8926    0.9398     15717\n         normal     0.9999    1.0000    0.9999     15717\n    warezclient     0.9992    0.9995    0.9993     15717\n           nmap     0.9939    0.9852    0.9895     15718\n   processtable     0.9797    0.9499    0.9645     15717\n      portsweep     0.9925    0.9885    0.9905     15717\n          mscan     0.9014    1.0000    0.9482     15718\n     httptunnel     0.9999    1.0000    0.9999     15718\nbuffer_overflow     0.9330    0.9982    0.9645     15717\n       multihop     0.9925    0.9287    0.9596     15718\n       mailbomb     0.9999    1.0000    1.0000     15718\n      ftp_write     0.9264    0.9333    0.9298     15717\n\n       accuracy                         0.9831    565827\n      macro avg     0.9842    0.9831    0.9830    565827\n   weighted avg     0.9842    0.9831    0.9830    565827\n\n",
          "output_type": "stream"
        }
      ]
    }
  ]
}